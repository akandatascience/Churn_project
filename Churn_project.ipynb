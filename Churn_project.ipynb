{
 "cells": [
  {
   "cell_type": "markdown",
   "metadata": {
    "id": "W7EfDI5qCZM7"
   },
   "source": [
    "## <b> Orange S.A., formerly France Télécom S.A., is a French multinational telecommunications corporation. The Orange Telecom's Churn Dataset, consists of cleaned customer activity data (features), along with a churn label specifying whether a customer canceled the subscription.\n",
    "\n",
    "## <b> Explore and analyze the data to discover key factors responsible for customer churn and come up with ways/recommendations to ensure customer retention. </b>\n"
   ]
  },
  {
   "cell_type": "markdown",
   "metadata": {
    "id": "2ZLjI9VxB3Fw"
   },
   "source": [
    "# New section"
   ]
  },
  {
   "cell_type": "code",
   "execution_count": 49,
   "metadata": {
    "id": "4QDA9MfPCkcO"
   },
   "outputs": [],
   "source": [
    "import pandas as pd\n",
    "import matplotlib.pyplot as plt\n",
    "import matplotlib.ticker as mtick\n",
    "%matplotlib inline\n",
    "import seaborn as sns\n",
    "import numpy as np\n",
    "\n",
    "\n"
   ]
  },
  {
   "cell_type": "code",
   "execution_count": 50,
   "metadata": {
    "colab": {
     "base_uri": "https://localhost:8080/",
     "height": 502
    },
    "id": "X6axuBCxDvkW",
    "outputId": "8b717f74-33c3-45f7-e3c6-f50788e1eba3"
   },
   "outputs": [
    {
     "data": {
      "text/html": [
       "<div>\n",
       "<style scoped>\n",
       "    .dataframe tbody tr th:only-of-type {\n",
       "        vertical-align: middle;\n",
       "    }\n",
       "\n",
       "    .dataframe tbody tr th {\n",
       "        vertical-align: top;\n",
       "    }\n",
       "\n",
       "    .dataframe thead th {\n",
       "        text-align: right;\n",
       "    }\n",
       "</style>\n",
       "<table border=\"1\" class=\"dataframe\">\n",
       "  <thead>\n",
       "    <tr style=\"text-align: right;\">\n",
       "      <th></th>\n",
       "      <th>State</th>\n",
       "      <th>Account length</th>\n",
       "      <th>Area code</th>\n",
       "      <th>International plan</th>\n",
       "      <th>Voice mail plan</th>\n",
       "      <th>Number vmail messages</th>\n",
       "      <th>Total day minutes</th>\n",
       "      <th>Total day calls</th>\n",
       "      <th>Total day charge</th>\n",
       "      <th>Total eve minutes</th>\n",
       "      <th>Total eve calls</th>\n",
       "      <th>Total eve charge</th>\n",
       "      <th>Total night minutes</th>\n",
       "      <th>Total night calls</th>\n",
       "      <th>Total night charge</th>\n",
       "      <th>Total intl minutes</th>\n",
       "      <th>Total intl calls</th>\n",
       "      <th>Total intl charge</th>\n",
       "      <th>Customer service calls</th>\n",
       "      <th>Churn</th>\n",
       "    </tr>\n",
       "  </thead>\n",
       "  <tbody>\n",
       "    <tr>\n",
       "      <th>0</th>\n",
       "      <td>KS</td>\n",
       "      <td>128</td>\n",
       "      <td>415</td>\n",
       "      <td>No</td>\n",
       "      <td>Yes</td>\n",
       "      <td>25</td>\n",
       "      <td>265.1</td>\n",
       "      <td>110</td>\n",
       "      <td>45.07</td>\n",
       "      <td>197.4</td>\n",
       "      <td>99</td>\n",
       "      <td>16.78</td>\n",
       "      <td>244.7</td>\n",
       "      <td>91</td>\n",
       "      <td>11.01</td>\n",
       "      <td>10.0</td>\n",
       "      <td>3</td>\n",
       "      <td>2.70</td>\n",
       "      <td>1</td>\n",
       "      <td>False</td>\n",
       "    </tr>\n",
       "    <tr>\n",
       "      <th>1</th>\n",
       "      <td>OH</td>\n",
       "      <td>107</td>\n",
       "      <td>415</td>\n",
       "      <td>No</td>\n",
       "      <td>Yes</td>\n",
       "      <td>26</td>\n",
       "      <td>161.6</td>\n",
       "      <td>123</td>\n",
       "      <td>27.47</td>\n",
       "      <td>195.5</td>\n",
       "      <td>103</td>\n",
       "      <td>16.62</td>\n",
       "      <td>254.4</td>\n",
       "      <td>103</td>\n",
       "      <td>11.45</td>\n",
       "      <td>13.7</td>\n",
       "      <td>3</td>\n",
       "      <td>3.70</td>\n",
       "      <td>1</td>\n",
       "      <td>False</td>\n",
       "    </tr>\n",
       "    <tr>\n",
       "      <th>2</th>\n",
       "      <td>NJ</td>\n",
       "      <td>137</td>\n",
       "      <td>415</td>\n",
       "      <td>No</td>\n",
       "      <td>No</td>\n",
       "      <td>0</td>\n",
       "      <td>243.4</td>\n",
       "      <td>114</td>\n",
       "      <td>41.38</td>\n",
       "      <td>121.2</td>\n",
       "      <td>110</td>\n",
       "      <td>10.30</td>\n",
       "      <td>162.6</td>\n",
       "      <td>104</td>\n",
       "      <td>7.32</td>\n",
       "      <td>12.2</td>\n",
       "      <td>5</td>\n",
       "      <td>3.29</td>\n",
       "      <td>0</td>\n",
       "      <td>False</td>\n",
       "    </tr>\n",
       "    <tr>\n",
       "      <th>3</th>\n",
       "      <td>OH</td>\n",
       "      <td>84</td>\n",
       "      <td>408</td>\n",
       "      <td>Yes</td>\n",
       "      <td>No</td>\n",
       "      <td>0</td>\n",
       "      <td>299.4</td>\n",
       "      <td>71</td>\n",
       "      <td>50.90</td>\n",
       "      <td>61.9</td>\n",
       "      <td>88</td>\n",
       "      <td>5.26</td>\n",
       "      <td>196.9</td>\n",
       "      <td>89</td>\n",
       "      <td>8.86</td>\n",
       "      <td>6.6</td>\n",
       "      <td>7</td>\n",
       "      <td>1.78</td>\n",
       "      <td>2</td>\n",
       "      <td>False</td>\n",
       "    </tr>\n",
       "    <tr>\n",
       "      <th>4</th>\n",
       "      <td>OK</td>\n",
       "      <td>75</td>\n",
       "      <td>415</td>\n",
       "      <td>Yes</td>\n",
       "      <td>No</td>\n",
       "      <td>0</td>\n",
       "      <td>166.7</td>\n",
       "      <td>113</td>\n",
       "      <td>28.34</td>\n",
       "      <td>148.3</td>\n",
       "      <td>122</td>\n",
       "      <td>12.61</td>\n",
       "      <td>186.9</td>\n",
       "      <td>121</td>\n",
       "      <td>8.41</td>\n",
       "      <td>10.1</td>\n",
       "      <td>3</td>\n",
       "      <td>2.73</td>\n",
       "      <td>3</td>\n",
       "      <td>False</td>\n",
       "    </tr>\n",
       "    <tr>\n",
       "      <th>...</th>\n",
       "      <td>...</td>\n",
       "      <td>...</td>\n",
       "      <td>...</td>\n",
       "      <td>...</td>\n",
       "      <td>...</td>\n",
       "      <td>...</td>\n",
       "      <td>...</td>\n",
       "      <td>...</td>\n",
       "      <td>...</td>\n",
       "      <td>...</td>\n",
       "      <td>...</td>\n",
       "      <td>...</td>\n",
       "      <td>...</td>\n",
       "      <td>...</td>\n",
       "      <td>...</td>\n",
       "      <td>...</td>\n",
       "      <td>...</td>\n",
       "      <td>...</td>\n",
       "      <td>...</td>\n",
       "      <td>...</td>\n",
       "    </tr>\n",
       "    <tr>\n",
       "      <th>3328</th>\n",
       "      <td>AZ</td>\n",
       "      <td>192</td>\n",
       "      <td>415</td>\n",
       "      <td>No</td>\n",
       "      <td>Yes</td>\n",
       "      <td>36</td>\n",
       "      <td>156.2</td>\n",
       "      <td>77</td>\n",
       "      <td>26.55</td>\n",
       "      <td>215.5</td>\n",
       "      <td>126</td>\n",
       "      <td>18.32</td>\n",
       "      <td>279.1</td>\n",
       "      <td>83</td>\n",
       "      <td>12.56</td>\n",
       "      <td>9.9</td>\n",
       "      <td>6</td>\n",
       "      <td>2.67</td>\n",
       "      <td>2</td>\n",
       "      <td>False</td>\n",
       "    </tr>\n",
       "    <tr>\n",
       "      <th>3329</th>\n",
       "      <td>WV</td>\n",
       "      <td>68</td>\n",
       "      <td>415</td>\n",
       "      <td>No</td>\n",
       "      <td>No</td>\n",
       "      <td>0</td>\n",
       "      <td>231.1</td>\n",
       "      <td>57</td>\n",
       "      <td>39.29</td>\n",
       "      <td>153.4</td>\n",
       "      <td>55</td>\n",
       "      <td>13.04</td>\n",
       "      <td>191.3</td>\n",
       "      <td>123</td>\n",
       "      <td>8.61</td>\n",
       "      <td>9.6</td>\n",
       "      <td>4</td>\n",
       "      <td>2.59</td>\n",
       "      <td>3</td>\n",
       "      <td>False</td>\n",
       "    </tr>\n",
       "    <tr>\n",
       "      <th>3330</th>\n",
       "      <td>RI</td>\n",
       "      <td>28</td>\n",
       "      <td>510</td>\n",
       "      <td>No</td>\n",
       "      <td>No</td>\n",
       "      <td>0</td>\n",
       "      <td>180.8</td>\n",
       "      <td>109</td>\n",
       "      <td>30.74</td>\n",
       "      <td>288.8</td>\n",
       "      <td>58</td>\n",
       "      <td>24.55</td>\n",
       "      <td>191.9</td>\n",
       "      <td>91</td>\n",
       "      <td>8.64</td>\n",
       "      <td>14.1</td>\n",
       "      <td>6</td>\n",
       "      <td>3.81</td>\n",
       "      <td>2</td>\n",
       "      <td>False</td>\n",
       "    </tr>\n",
       "    <tr>\n",
       "      <th>3331</th>\n",
       "      <td>CT</td>\n",
       "      <td>184</td>\n",
       "      <td>510</td>\n",
       "      <td>Yes</td>\n",
       "      <td>No</td>\n",
       "      <td>0</td>\n",
       "      <td>213.8</td>\n",
       "      <td>105</td>\n",
       "      <td>36.35</td>\n",
       "      <td>159.6</td>\n",
       "      <td>84</td>\n",
       "      <td>13.57</td>\n",
       "      <td>139.2</td>\n",
       "      <td>137</td>\n",
       "      <td>6.26</td>\n",
       "      <td>5.0</td>\n",
       "      <td>10</td>\n",
       "      <td>1.35</td>\n",
       "      <td>2</td>\n",
       "      <td>False</td>\n",
       "    </tr>\n",
       "    <tr>\n",
       "      <th>3332</th>\n",
       "      <td>TN</td>\n",
       "      <td>74</td>\n",
       "      <td>415</td>\n",
       "      <td>No</td>\n",
       "      <td>Yes</td>\n",
       "      <td>25</td>\n",
       "      <td>234.4</td>\n",
       "      <td>113</td>\n",
       "      <td>39.85</td>\n",
       "      <td>265.9</td>\n",
       "      <td>82</td>\n",
       "      <td>22.60</td>\n",
       "      <td>241.4</td>\n",
       "      <td>77</td>\n",
       "      <td>10.86</td>\n",
       "      <td>13.7</td>\n",
       "      <td>4</td>\n",
       "      <td>3.70</td>\n",
       "      <td>0</td>\n",
       "      <td>False</td>\n",
       "    </tr>\n",
       "  </tbody>\n",
       "</table>\n",
       "<p>3333 rows × 20 columns</p>\n",
       "</div>"
      ],
      "text/plain": [
       "     State  Account length  Area code International plan Voice mail plan  \\\n",
       "0       KS             128        415                 No             Yes   \n",
       "1       OH             107        415                 No             Yes   \n",
       "2       NJ             137        415                 No              No   \n",
       "3       OH              84        408                Yes              No   \n",
       "4       OK              75        415                Yes              No   \n",
       "...    ...             ...        ...                ...             ...   \n",
       "3328    AZ             192        415                 No             Yes   \n",
       "3329    WV              68        415                 No              No   \n",
       "3330    RI              28        510                 No              No   \n",
       "3331    CT             184        510                Yes              No   \n",
       "3332    TN              74        415                 No             Yes   \n",
       "\n",
       "      Number vmail messages  Total day minutes  Total day calls  \\\n",
       "0                        25              265.1              110   \n",
       "1                        26              161.6              123   \n",
       "2                         0              243.4              114   \n",
       "3                         0              299.4               71   \n",
       "4                         0              166.7              113   \n",
       "...                     ...                ...              ...   \n",
       "3328                     36              156.2               77   \n",
       "3329                      0              231.1               57   \n",
       "3330                      0              180.8              109   \n",
       "3331                      0              213.8              105   \n",
       "3332                     25              234.4              113   \n",
       "\n",
       "      Total day charge  Total eve minutes  Total eve calls  Total eve charge  \\\n",
       "0                45.07              197.4               99             16.78   \n",
       "1                27.47              195.5              103             16.62   \n",
       "2                41.38              121.2              110             10.30   \n",
       "3                50.90               61.9               88              5.26   \n",
       "4                28.34              148.3              122             12.61   \n",
       "...                ...                ...              ...               ...   \n",
       "3328             26.55              215.5              126             18.32   \n",
       "3329             39.29              153.4               55             13.04   \n",
       "3330             30.74              288.8               58             24.55   \n",
       "3331             36.35              159.6               84             13.57   \n",
       "3332             39.85              265.9               82             22.60   \n",
       "\n",
       "      Total night minutes  Total night calls  Total night charge  \\\n",
       "0                   244.7                 91               11.01   \n",
       "1                   254.4                103               11.45   \n",
       "2                   162.6                104                7.32   \n",
       "3                   196.9                 89                8.86   \n",
       "4                   186.9                121                8.41   \n",
       "...                   ...                ...                 ...   \n",
       "3328                279.1                 83               12.56   \n",
       "3329                191.3                123                8.61   \n",
       "3330                191.9                 91                8.64   \n",
       "3331                139.2                137                6.26   \n",
       "3332                241.4                 77               10.86   \n",
       "\n",
       "      Total intl minutes  Total intl calls  Total intl charge  \\\n",
       "0                   10.0                 3               2.70   \n",
       "1                   13.7                 3               3.70   \n",
       "2                   12.2                 5               3.29   \n",
       "3                    6.6                 7               1.78   \n",
       "4                   10.1                 3               2.73   \n",
       "...                  ...               ...                ...   \n",
       "3328                 9.9                 6               2.67   \n",
       "3329                 9.6                 4               2.59   \n",
       "3330                14.1                 6               3.81   \n",
       "3331                 5.0                10               1.35   \n",
       "3332                13.7                 4               3.70   \n",
       "\n",
       "      Customer service calls  Churn  \n",
       "0                          1  False  \n",
       "1                          1  False  \n",
       "2                          0  False  \n",
       "3                          2  False  \n",
       "4                          3  False  \n",
       "...                      ...    ...  \n",
       "3328                       2  False  \n",
       "3329                       3  False  \n",
       "3330                       2  False  \n",
       "3331                       2  False  \n",
       "3332                       0  False  \n",
       "\n",
       "[3333 rows x 20 columns]"
      ]
     },
     "execution_count": 50,
     "metadata": {},
     "output_type": "execute_result"
    }
   ],
   "source": [
    "df = pd.read_csv('Telecom Churn.csv')\n",
    "df"
   ]
  },
  {
   "cell_type": "code",
   "execution_count": 51,
   "metadata": {
    "colab": {
     "base_uri": "https://localhost:8080/",
     "height": 285
    },
    "id": "pyYelPjtEKRl",
    "outputId": "62916960-1948-470a-e865-ced048a1f5d0"
   },
   "outputs": [
    {
     "data": {
      "text/html": [
       "<div>\n",
       "<style scoped>\n",
       "    .dataframe tbody tr th:only-of-type {\n",
       "        vertical-align: middle;\n",
       "    }\n",
       "\n",
       "    .dataframe tbody tr th {\n",
       "        vertical-align: top;\n",
       "    }\n",
       "\n",
       "    .dataframe thead th {\n",
       "        text-align: right;\n",
       "    }\n",
       "</style>\n",
       "<table border=\"1\" class=\"dataframe\">\n",
       "  <thead>\n",
       "    <tr style=\"text-align: right;\">\n",
       "      <th></th>\n",
       "      <th>State</th>\n",
       "      <th>Account length</th>\n",
       "      <th>Area code</th>\n",
       "      <th>International plan</th>\n",
       "      <th>Voice mail plan</th>\n",
       "      <th>Number vmail messages</th>\n",
       "      <th>Total day minutes</th>\n",
       "      <th>Total day calls</th>\n",
       "      <th>Total day charge</th>\n",
       "      <th>Total eve minutes</th>\n",
       "      <th>Total eve calls</th>\n",
       "      <th>Total eve charge</th>\n",
       "      <th>Total night minutes</th>\n",
       "      <th>Total night calls</th>\n",
       "      <th>Total night charge</th>\n",
       "      <th>Total intl minutes</th>\n",
       "      <th>Total intl calls</th>\n",
       "      <th>Total intl charge</th>\n",
       "      <th>Customer service calls</th>\n",
       "      <th>Churn</th>\n",
       "    </tr>\n",
       "  </thead>\n",
       "  <tbody>\n",
       "    <tr>\n",
       "      <th>0</th>\n",
       "      <td>KS</td>\n",
       "      <td>128</td>\n",
       "      <td>415</td>\n",
       "      <td>No</td>\n",
       "      <td>Yes</td>\n",
       "      <td>25</td>\n",
       "      <td>265.1</td>\n",
       "      <td>110</td>\n",
       "      <td>45.07</td>\n",
       "      <td>197.4</td>\n",
       "      <td>99</td>\n",
       "      <td>16.78</td>\n",
       "      <td>244.7</td>\n",
       "      <td>91</td>\n",
       "      <td>11.01</td>\n",
       "      <td>10.0</td>\n",
       "      <td>3</td>\n",
       "      <td>2.70</td>\n",
       "      <td>1</td>\n",
       "      <td>False</td>\n",
       "    </tr>\n",
       "    <tr>\n",
       "      <th>1</th>\n",
       "      <td>OH</td>\n",
       "      <td>107</td>\n",
       "      <td>415</td>\n",
       "      <td>No</td>\n",
       "      <td>Yes</td>\n",
       "      <td>26</td>\n",
       "      <td>161.6</td>\n",
       "      <td>123</td>\n",
       "      <td>27.47</td>\n",
       "      <td>195.5</td>\n",
       "      <td>103</td>\n",
       "      <td>16.62</td>\n",
       "      <td>254.4</td>\n",
       "      <td>103</td>\n",
       "      <td>11.45</td>\n",
       "      <td>13.7</td>\n",
       "      <td>3</td>\n",
       "      <td>3.70</td>\n",
       "      <td>1</td>\n",
       "      <td>False</td>\n",
       "    </tr>\n",
       "    <tr>\n",
       "      <th>2</th>\n",
       "      <td>NJ</td>\n",
       "      <td>137</td>\n",
       "      <td>415</td>\n",
       "      <td>No</td>\n",
       "      <td>No</td>\n",
       "      <td>0</td>\n",
       "      <td>243.4</td>\n",
       "      <td>114</td>\n",
       "      <td>41.38</td>\n",
       "      <td>121.2</td>\n",
       "      <td>110</td>\n",
       "      <td>10.30</td>\n",
       "      <td>162.6</td>\n",
       "      <td>104</td>\n",
       "      <td>7.32</td>\n",
       "      <td>12.2</td>\n",
       "      <td>5</td>\n",
       "      <td>3.29</td>\n",
       "      <td>0</td>\n",
       "      <td>False</td>\n",
       "    </tr>\n",
       "    <tr>\n",
       "      <th>3</th>\n",
       "      <td>OH</td>\n",
       "      <td>84</td>\n",
       "      <td>408</td>\n",
       "      <td>Yes</td>\n",
       "      <td>No</td>\n",
       "      <td>0</td>\n",
       "      <td>299.4</td>\n",
       "      <td>71</td>\n",
       "      <td>50.90</td>\n",
       "      <td>61.9</td>\n",
       "      <td>88</td>\n",
       "      <td>5.26</td>\n",
       "      <td>196.9</td>\n",
       "      <td>89</td>\n",
       "      <td>8.86</td>\n",
       "      <td>6.6</td>\n",
       "      <td>7</td>\n",
       "      <td>1.78</td>\n",
       "      <td>2</td>\n",
       "      <td>False</td>\n",
       "    </tr>\n",
       "    <tr>\n",
       "      <th>4</th>\n",
       "      <td>OK</td>\n",
       "      <td>75</td>\n",
       "      <td>415</td>\n",
       "      <td>Yes</td>\n",
       "      <td>No</td>\n",
       "      <td>0</td>\n",
       "      <td>166.7</td>\n",
       "      <td>113</td>\n",
       "      <td>28.34</td>\n",
       "      <td>148.3</td>\n",
       "      <td>122</td>\n",
       "      <td>12.61</td>\n",
       "      <td>186.9</td>\n",
       "      <td>121</td>\n",
       "      <td>8.41</td>\n",
       "      <td>10.1</td>\n",
       "      <td>3</td>\n",
       "      <td>2.73</td>\n",
       "      <td>3</td>\n",
       "      <td>False</td>\n",
       "    </tr>\n",
       "  </tbody>\n",
       "</table>\n",
       "</div>"
      ],
      "text/plain": [
       "  State  Account length  Area code International plan Voice mail plan  \\\n",
       "0    KS             128        415                 No             Yes   \n",
       "1    OH             107        415                 No             Yes   \n",
       "2    NJ             137        415                 No              No   \n",
       "3    OH              84        408                Yes              No   \n",
       "4    OK              75        415                Yes              No   \n",
       "\n",
       "   Number vmail messages  Total day minutes  Total day calls  \\\n",
       "0                     25              265.1              110   \n",
       "1                     26              161.6              123   \n",
       "2                      0              243.4              114   \n",
       "3                      0              299.4               71   \n",
       "4                      0              166.7              113   \n",
       "\n",
       "   Total day charge  Total eve minutes  Total eve calls  Total eve charge  \\\n",
       "0             45.07              197.4               99             16.78   \n",
       "1             27.47              195.5              103             16.62   \n",
       "2             41.38              121.2              110             10.30   \n",
       "3             50.90               61.9               88              5.26   \n",
       "4             28.34              148.3              122             12.61   \n",
       "\n",
       "   Total night minutes  Total night calls  Total night charge  \\\n",
       "0                244.7                 91               11.01   \n",
       "1                254.4                103               11.45   \n",
       "2                162.6                104                7.32   \n",
       "3                196.9                 89                8.86   \n",
       "4                186.9                121                8.41   \n",
       "\n",
       "   Total intl minutes  Total intl calls  Total intl charge  \\\n",
       "0                10.0                 3               2.70   \n",
       "1                13.7                 3               3.70   \n",
       "2                12.2                 5               3.29   \n",
       "3                 6.6                 7               1.78   \n",
       "4                10.1                 3               2.73   \n",
       "\n",
       "   Customer service calls  Churn  \n",
       "0                       1  False  \n",
       "1                       1  False  \n",
       "2                       0  False  \n",
       "3                       2  False  \n",
       "4                       3  False  "
      ]
     },
     "execution_count": 51,
     "metadata": {},
     "output_type": "execute_result"
    }
   ],
   "source": [
    "df.head()"
   ]
  },
  {
   "cell_type": "code",
   "execution_count": 52,
   "metadata": {
    "colab": {
     "base_uri": "https://localhost:8080/"
    },
    "id": "6CI_qh8WEezJ",
    "outputId": "b73a535e-1a61-4e85-9d6c-da55485b568e"
   },
   "outputs": [
    {
     "name": "stdout",
     "output_type": "stream",
     "text": [
      "<class 'pandas.core.frame.DataFrame'>\n",
      "RangeIndex: 3333 entries, 0 to 3332\n",
      "Data columns (total 20 columns):\n",
      " #   Column                  Non-Null Count  Dtype  \n",
      "---  ------                  --------------  -----  \n",
      " 0   State                   3333 non-null   object \n",
      " 1   Account length          3333 non-null   int64  \n",
      " 2   Area code               3333 non-null   int64  \n",
      " 3   International plan      3333 non-null   object \n",
      " 4   Voice mail plan         3333 non-null   object \n",
      " 5   Number vmail messages   3333 non-null   int64  \n",
      " 6   Total day minutes       3333 non-null   float64\n",
      " 7   Total day calls         3333 non-null   int64  \n",
      " 8   Total day charge        3333 non-null   float64\n",
      " 9   Total eve minutes       3333 non-null   float64\n",
      " 10  Total eve calls         3333 non-null   int64  \n",
      " 11  Total eve charge        3333 non-null   float64\n",
      " 12  Total night minutes     3333 non-null   float64\n",
      " 13  Total night calls       3333 non-null   int64  \n",
      " 14  Total night charge      3333 non-null   float64\n",
      " 15  Total intl minutes      3333 non-null   float64\n",
      " 16  Total intl calls        3333 non-null   int64  \n",
      " 17  Total intl charge       3333 non-null   float64\n",
      " 18  Customer service calls  3333 non-null   int64  \n",
      " 19  Churn                   3333 non-null   bool   \n",
      "dtypes: bool(1), float64(8), int64(8), object(3)\n",
      "memory usage: 498.1+ KB\n"
     ]
    }
   ],
   "source": [
    "df.info()"
   ]
  },
  {
   "cell_type": "code",
   "execution_count": 53,
   "metadata": {
    "colab": {
     "base_uri": "https://localhost:8080/"
    },
    "id": "PLawIVekEf-q",
    "outputId": "77516490-40d0-436f-b106-0aad128a7e9a"
   },
   "outputs": [
    {
     "data": {
      "text/plain": [
       "Index(['State', 'Account length', 'Area code', 'International plan',\n",
       "       'Voice mail plan', 'Number vmail messages', 'Total day minutes',\n",
       "       'Total day calls', 'Total day charge', 'Total eve minutes',\n",
       "       'Total eve calls', 'Total eve charge', 'Total night minutes',\n",
       "       'Total night calls', 'Total night charge', 'Total intl minutes',\n",
       "       'Total intl calls', 'Total intl charge', 'Customer service calls',\n",
       "       'Churn'],\n",
       "      dtype='object')"
      ]
     },
     "execution_count": 53,
     "metadata": {},
     "output_type": "execute_result"
    }
   ],
   "source": [
    "df.columns\n"
   ]
  },
  {
   "cell_type": "code",
   "execution_count": 54,
   "metadata": {
    "colab": {
     "base_uri": "https://localhost:8080/",
     "height": 379
    },
    "id": "ZiYNCtVcFJax",
    "outputId": "9fdd8426-36ae-448a-f582-d94dac3f98d0"
   },
   "outputs": [
    {
     "data": {
      "text/html": [
       "<div>\n",
       "<style scoped>\n",
       "    .dataframe tbody tr th:only-of-type {\n",
       "        vertical-align: middle;\n",
       "    }\n",
       "\n",
       "    .dataframe tbody tr th {\n",
       "        vertical-align: top;\n",
       "    }\n",
       "\n",
       "    .dataframe thead th {\n",
       "        text-align: right;\n",
       "    }\n",
       "</style>\n",
       "<table border=\"1\" class=\"dataframe\">\n",
       "  <thead>\n",
       "    <tr style=\"text-align: right;\">\n",
       "      <th></th>\n",
       "      <th>Account length</th>\n",
       "      <th>Area code</th>\n",
       "      <th>Number vmail messages</th>\n",
       "      <th>Total day minutes</th>\n",
       "      <th>Total day calls</th>\n",
       "      <th>Total day charge</th>\n",
       "      <th>Total eve minutes</th>\n",
       "      <th>Total eve calls</th>\n",
       "      <th>Total eve charge</th>\n",
       "      <th>Total night minutes</th>\n",
       "      <th>Total night calls</th>\n",
       "      <th>Total night charge</th>\n",
       "      <th>Total intl minutes</th>\n",
       "      <th>Total intl calls</th>\n",
       "      <th>Total intl charge</th>\n",
       "      <th>Customer service calls</th>\n",
       "    </tr>\n",
       "  </thead>\n",
       "  <tbody>\n",
       "    <tr>\n",
       "      <th>count</th>\n",
       "      <td>3333.000000</td>\n",
       "      <td>3333.000000</td>\n",
       "      <td>3333.000000</td>\n",
       "      <td>3333.000000</td>\n",
       "      <td>3333.000000</td>\n",
       "      <td>3333.000000</td>\n",
       "      <td>3333.000000</td>\n",
       "      <td>3333.000000</td>\n",
       "      <td>3333.000000</td>\n",
       "      <td>3333.000000</td>\n",
       "      <td>3333.000000</td>\n",
       "      <td>3333.000000</td>\n",
       "      <td>3333.000000</td>\n",
       "      <td>3333.000000</td>\n",
       "      <td>3333.000000</td>\n",
       "      <td>3333.000000</td>\n",
       "    </tr>\n",
       "    <tr>\n",
       "      <th>mean</th>\n",
       "      <td>101.064806</td>\n",
       "      <td>437.182418</td>\n",
       "      <td>8.099010</td>\n",
       "      <td>179.775098</td>\n",
       "      <td>100.435644</td>\n",
       "      <td>30.562307</td>\n",
       "      <td>200.980348</td>\n",
       "      <td>100.114311</td>\n",
       "      <td>17.083540</td>\n",
       "      <td>200.872037</td>\n",
       "      <td>100.107711</td>\n",
       "      <td>9.039325</td>\n",
       "      <td>10.237294</td>\n",
       "      <td>4.479448</td>\n",
       "      <td>2.764581</td>\n",
       "      <td>1.562856</td>\n",
       "    </tr>\n",
       "    <tr>\n",
       "      <th>std</th>\n",
       "      <td>39.822106</td>\n",
       "      <td>42.371290</td>\n",
       "      <td>13.688365</td>\n",
       "      <td>54.467389</td>\n",
       "      <td>20.069084</td>\n",
       "      <td>9.259435</td>\n",
       "      <td>50.713844</td>\n",
       "      <td>19.922625</td>\n",
       "      <td>4.310668</td>\n",
       "      <td>50.573847</td>\n",
       "      <td>19.568609</td>\n",
       "      <td>2.275873</td>\n",
       "      <td>2.791840</td>\n",
       "      <td>2.461214</td>\n",
       "      <td>0.753773</td>\n",
       "      <td>1.315491</td>\n",
       "    </tr>\n",
       "    <tr>\n",
       "      <th>min</th>\n",
       "      <td>1.000000</td>\n",
       "      <td>408.000000</td>\n",
       "      <td>0.000000</td>\n",
       "      <td>0.000000</td>\n",
       "      <td>0.000000</td>\n",
       "      <td>0.000000</td>\n",
       "      <td>0.000000</td>\n",
       "      <td>0.000000</td>\n",
       "      <td>0.000000</td>\n",
       "      <td>23.200000</td>\n",
       "      <td>33.000000</td>\n",
       "      <td>1.040000</td>\n",
       "      <td>0.000000</td>\n",
       "      <td>0.000000</td>\n",
       "      <td>0.000000</td>\n",
       "      <td>0.000000</td>\n",
       "    </tr>\n",
       "    <tr>\n",
       "      <th>25%</th>\n",
       "      <td>74.000000</td>\n",
       "      <td>408.000000</td>\n",
       "      <td>0.000000</td>\n",
       "      <td>143.700000</td>\n",
       "      <td>87.000000</td>\n",
       "      <td>24.430000</td>\n",
       "      <td>166.600000</td>\n",
       "      <td>87.000000</td>\n",
       "      <td>14.160000</td>\n",
       "      <td>167.000000</td>\n",
       "      <td>87.000000</td>\n",
       "      <td>7.520000</td>\n",
       "      <td>8.500000</td>\n",
       "      <td>3.000000</td>\n",
       "      <td>2.300000</td>\n",
       "      <td>1.000000</td>\n",
       "    </tr>\n",
       "    <tr>\n",
       "      <th>50%</th>\n",
       "      <td>101.000000</td>\n",
       "      <td>415.000000</td>\n",
       "      <td>0.000000</td>\n",
       "      <td>179.400000</td>\n",
       "      <td>101.000000</td>\n",
       "      <td>30.500000</td>\n",
       "      <td>201.400000</td>\n",
       "      <td>100.000000</td>\n",
       "      <td>17.120000</td>\n",
       "      <td>201.200000</td>\n",
       "      <td>100.000000</td>\n",
       "      <td>9.050000</td>\n",
       "      <td>10.300000</td>\n",
       "      <td>4.000000</td>\n",
       "      <td>2.780000</td>\n",
       "      <td>1.000000</td>\n",
       "    </tr>\n",
       "    <tr>\n",
       "      <th>75%</th>\n",
       "      <td>127.000000</td>\n",
       "      <td>510.000000</td>\n",
       "      <td>20.000000</td>\n",
       "      <td>216.400000</td>\n",
       "      <td>114.000000</td>\n",
       "      <td>36.790000</td>\n",
       "      <td>235.300000</td>\n",
       "      <td>114.000000</td>\n",
       "      <td>20.000000</td>\n",
       "      <td>235.300000</td>\n",
       "      <td>113.000000</td>\n",
       "      <td>10.590000</td>\n",
       "      <td>12.100000</td>\n",
       "      <td>6.000000</td>\n",
       "      <td>3.270000</td>\n",
       "      <td>2.000000</td>\n",
       "    </tr>\n",
       "    <tr>\n",
       "      <th>max</th>\n",
       "      <td>243.000000</td>\n",
       "      <td>510.000000</td>\n",
       "      <td>51.000000</td>\n",
       "      <td>350.800000</td>\n",
       "      <td>165.000000</td>\n",
       "      <td>59.640000</td>\n",
       "      <td>363.700000</td>\n",
       "      <td>170.000000</td>\n",
       "      <td>30.910000</td>\n",
       "      <td>395.000000</td>\n",
       "      <td>175.000000</td>\n",
       "      <td>17.770000</td>\n",
       "      <td>20.000000</td>\n",
       "      <td>20.000000</td>\n",
       "      <td>5.400000</td>\n",
       "      <td>9.000000</td>\n",
       "    </tr>\n",
       "  </tbody>\n",
       "</table>\n",
       "</div>"
      ],
      "text/plain": [
       "       Account length    Area code  Number vmail messages  Total day minutes  \\\n",
       "count     3333.000000  3333.000000            3333.000000        3333.000000   \n",
       "mean       101.064806   437.182418               8.099010         179.775098   \n",
       "std         39.822106    42.371290              13.688365          54.467389   \n",
       "min          1.000000   408.000000               0.000000           0.000000   \n",
       "25%         74.000000   408.000000               0.000000         143.700000   \n",
       "50%        101.000000   415.000000               0.000000         179.400000   \n",
       "75%        127.000000   510.000000              20.000000         216.400000   \n",
       "max        243.000000   510.000000              51.000000         350.800000   \n",
       "\n",
       "       Total day calls  Total day charge  Total eve minutes  Total eve calls  \\\n",
       "count      3333.000000       3333.000000        3333.000000      3333.000000   \n",
       "mean        100.435644         30.562307         200.980348       100.114311   \n",
       "std          20.069084          9.259435          50.713844        19.922625   \n",
       "min           0.000000          0.000000           0.000000         0.000000   \n",
       "25%          87.000000         24.430000         166.600000        87.000000   \n",
       "50%         101.000000         30.500000         201.400000       100.000000   \n",
       "75%         114.000000         36.790000         235.300000       114.000000   \n",
       "max         165.000000         59.640000         363.700000       170.000000   \n",
       "\n",
       "       Total eve charge  Total night minutes  Total night calls  \\\n",
       "count       3333.000000          3333.000000        3333.000000   \n",
       "mean          17.083540           200.872037         100.107711   \n",
       "std            4.310668            50.573847          19.568609   \n",
       "min            0.000000            23.200000          33.000000   \n",
       "25%           14.160000           167.000000          87.000000   \n",
       "50%           17.120000           201.200000         100.000000   \n",
       "75%           20.000000           235.300000         113.000000   \n",
       "max           30.910000           395.000000         175.000000   \n",
       "\n",
       "       Total night charge  Total intl minutes  Total intl calls  \\\n",
       "count         3333.000000         3333.000000       3333.000000   \n",
       "mean             9.039325           10.237294          4.479448   \n",
       "std              2.275873            2.791840          2.461214   \n",
       "min              1.040000            0.000000          0.000000   \n",
       "25%              7.520000            8.500000          3.000000   \n",
       "50%              9.050000           10.300000          4.000000   \n",
       "75%             10.590000           12.100000          6.000000   \n",
       "max             17.770000           20.000000         20.000000   \n",
       "\n",
       "       Total intl charge  Customer service calls  \n",
       "count        3333.000000             3333.000000  \n",
       "mean            2.764581                1.562856  \n",
       "std             0.753773                1.315491  \n",
       "min             0.000000                0.000000  \n",
       "25%             2.300000                1.000000  \n",
       "50%             2.780000                1.000000  \n",
       "75%             3.270000                2.000000  \n",
       "max             5.400000                9.000000  "
      ]
     },
     "execution_count": 54,
     "metadata": {},
     "output_type": "execute_result"
    }
   ],
   "source": [
    "df.describe()"
   ]
  },
  {
   "cell_type": "markdown",
   "metadata": {
    "id": "vNArbfVzG-hf"
   },
   "source": [
    "# Univariate analysis"
   ]
  },
  {
   "cell_type": "code",
   "execution_count": 55,
   "metadata": {
    "colab": {
     "base_uri": "https://localhost:8080/",
     "height": 588
    },
    "id": "oGQXM7e8HvJW",
    "outputId": "faa98022-5cd2-4bf2-91c7-bb0560f70558"
   },
   "outputs": [
    {
     "name": "stderr",
     "output_type": "stream",
     "text": [
      "/mnt/c/Users/user/venv/lib/python3.6/site-packages/seaborn/distributions.py:2619: FutureWarning: `distplot` is a deprecated function and will be removed in a future version. Please adapt your code to use either `displot` (a figure-level function with similar flexibility) or `histplot` (an axes-level function for histograms).\n",
      "  warnings.warn(msg, FutureWarning)\n"
     ]
    },
    {
     "data": {
      "text/plain": [
       "[Text(0.5, 1.0, 'Account length distribution')]"
      ]
     },
     "execution_count": 55,
     "metadata": {},
     "output_type": "execute_result"
    },
    {
     "data": {
      "image/png": "[encoded data removed]",
      "text/plain": [
       "<Figure size 720x576 with 1 Axes>"
      ]
     },
     "metadata": {
      "needs_background": "light"
     },
     "output_type": "display_data"
    }
   ],
   "source": [
    "account_length = df['Account length']\n",
    "plt.rcParams['figure.figsize'] = (10,8)\n",
    "sns.distplot(account_length,hist = True).set(title='Account length distribution')"
   ]
  },
  {
   "cell_type": "code",
   "execution_count": 56,
   "metadata": {
    "colab": {
     "base_uri": "https://localhost:8080/",
     "height": 522
    },
    "id": "qKRNudEtRh9j",
    "outputId": "3db4502b-36e3-49a6-d475-f678fd0b3ea6"
   },
   "outputs": [
    {
     "data": {
      "image/png": "[encoded data removed]",
      "text/plain": [
       "<Figure size 720x576 with 1 Axes>"
      ]
     },
     "metadata": {
      "needs_background": "light"
     },
     "output_type": "display_data"
    }
   ],
   "source": [
    "customer_by_area = df['Area code'].value_counts()\n",
    "customer_by_area.plot(kind='bar')\n",
    "plt.title(\"Customer distribution across area\")\n",
    "plt.ylabel(\"Number of customers\")\n",
    "plt.xlabel(\"Area Code\")\n",
    "plt.rcParams['figure.figsize'] = (10,5)\n"
   ]
  },
  {
   "cell_type": "code",
   "execution_count": 57,
   "metadata": {
    "colab": {
     "base_uri": "https://localhost:8080/"
    },
    "id": "BlxuPFL6iIkT",
    "outputId": "e3899de4-2743-41b2-bf89-36a8a7d0bb89"
   },
   "outputs": [
    {
     "data": {
      "text/plain": [
       "415    1655\n",
       "510     840\n",
       "408     838\n",
       "Name: Area code, dtype: int64"
      ]
     },
     "execution_count": 57,
     "metadata": {},
     "output_type": "execute_result"
    }
   ],
   "source": [
    "df[\"Area code\"].value_counts()"
   ]
  },
  {
   "cell_type": "code",
   "execution_count": 58,
   "metadata": {
    "colab": {
     "base_uri": "https://localhost:8080/"
    },
    "id": "uT2UnRXAhycS",
    "outputId": "45c42e4b-69f9-4cd4-99c9-376cd83e3fa1"
   },
   "outputs": [
    {
     "data": {
      "text/plain": [
       "Area code\n",
       "408     838.0\n",
       "415    1655.0\n",
       "510     840.0\n",
       "Name: count, dtype: float64"
      ]
     },
     "execution_count": 58,
     "metadata": {},
     "output_type": "execute_result"
    }
   ],
   "source": [
    "df.groupby(\"Area code\")['Area code'].describe()['count']"
   ]
  },
  {
   "cell_type": "code",
   "execution_count": 59,
   "metadata": {
    "colab": {
     "base_uri": "https://localhost:8080/",
     "height": 374
    },
    "id": "m_O7rGwVmH2g",
    "outputId": "d035277e-d9f9-4bfb-efef-23d182dbac2a"
   },
   "outputs": [
    {
     "data": {
      "text/plain": [
       "Text(0.5, 1.0, 'Number of customers using voice mail package')"
      ]
     },
     "execution_count": 59,
     "metadata": {},
     "output_type": "execute_result"
    },
    {
     "data": {
      "image/png": "[encoded data removed]",
      "text/plain": [
       "<Figure size 720x360 with 1 Axes>"
      ]
     },
     "metadata": {
      "needs_background": "light"
     },
     "output_type": "display_data"
    }
   ],
   "source": [
    "mail_values = df['Voice mail plan'].value_counts()\n",
    "mail_values.plot(kind='bar')\n",
    "plt.ylabel('Number of customers')\n",
    "plt.xlabel('Voice mail use')\n",
    "plt.rcParams['figure.figsize']=(10,5)\n",
    "plt.title('Number of customers using voice mail package')\n"
   ]
  },
  {
   "cell_type": "code",
   "execution_count": 60,
   "metadata": {
    "colab": {
     "base_uri": "https://localhost:8080/",
     "height": 350
    },
    "id": "nMC5E7CQU3ee",
    "outputId": "d2b666d6-57fe-460b-ebdf-e1aea4820f1a"
   },
   "outputs": [
    {
     "data": {
      "image/png": "[encoded data removed]",
      "text/plain": [
       "<Figure size 720x360 with 1 Axes>"
      ]
     },
     "metadata": {
      "needs_background": "light"
     },
     "output_type": "display_data"
    }
   ],
   "source": [
    "total_day_calls = df['Total day calls']\n",
    "sns.histplot(total_day_calls).set(title='Distribution of day calls')\n",
    "plt.rcParams['figure.figsize'] = (10,10)\n"
   ]
  },
  {
   "cell_type": "code",
   "execution_count": 61,
   "metadata": {
    "colab": {
     "base_uri": "https://localhost:8080/"
    },
    "id": "_26BvHqrlkZb",
    "outputId": "0c782faa-51f5-4fbb-cb47-3dc40db6c7b3"
   },
   "outputs": [
    {
     "data": {
      "text/plain": [
       "count    3333.000000\n",
       "mean      100.435644\n",
       "std        20.069084\n",
       "min         0.000000\n",
       "25%        87.000000\n",
       "50%       101.000000\n",
       "75%       114.000000\n",
       "max       165.000000\n",
       "Name: Total day calls, dtype: float64"
      ]
     },
     "execution_count": 61,
     "metadata": {},
     "output_type": "execute_result"
    }
   ],
   "source": [
    "total_day_calls.describe()\n"
   ]
  },
  {
   "cell_type": "code",
   "execution_count": 63,
   "metadata": {
    "colab": {
     "base_uri": "https://localhost:8080/",
     "height": 1000
    },
    "id": "K3FLIxfYmln5",
    "outputId": "d9d8f169-f638-458a-b303-4ec9cd374958"
   },
   "outputs": [
    {
     "data": {
      "image/png": "[encoded data removed]",
      "text/plain": [
       "<Figure size 2160x1440 with 2 Axes>"
      ]
     },
     "metadata": {},
     "output_type": "display_data"
    }
   ],
   "source": [
    "sns.heatmap(df.corr(),annot=True,)\n",
    "sns.set(rc={'figure.figsize':(30,20)})\n"
   ]
  },
  {
   "cell_type": "markdown",
   "metadata": {
    "id": "hk7W6yuJi6j-"
   },
   "source": [
    "Conclusion: charge and minutes are fully correlated\n"
   ]
  },
  {
   "cell_type": "markdown",
   "metadata": {
    "id": "RUHOElrylVV0"
   },
   "source": [
    "Churn percentage by state"
   ]
  },
  {
   "cell_type": "code",
   "execution_count": 64,
   "metadata": {
    "colab": {
     "base_uri": "https://localhost:8080/",
     "height": 1000
    },
    "id": "jlFiEq3qldoL",
    "outputId": "d285676a-37bf-4b73-a2e2-f2b61c172293"
   },
   "outputs": [
    {
     "data": {
      "text/plain": [
       "Text(0.5, 1.0, 'Number of customers churned by state')"
      ]
     },
     "execution_count": 64,
     "metadata": {},
     "output_type": "execute_result"
    },
    {
     "data": {
      "image/png": "[encoded data removed]",
      "text/plain": [
       "<Figure size 2160x1440 with 1 Axes>"
      ]
     },
     "metadata": {},
     "output_type": "display_data"
    }
   ],
   "source": [
    "a = df[df['Churn']==True].groupby('State').count()['Churn']\n",
    "a.sort_values().plot(kind='bar')\n",
    "plt.ylabel('Number of customers churned')\n",
    "plt.xlabel('State')\n",
    "plt.rcParams['figure.figsize']=(5,5)\n",
    "plt.title('Number of customers churned by state')"
   ]
  },
  {
   "cell_type": "markdown",
   "metadata": {
    "id": "CIGfPh7PsTeA"
   },
   "source": [
    "From the above analysis we can see the spread of churn of each of the states "
   ]
  },
  {
   "cell_type": "code",
   "execution_count": 65,
   "metadata": {
    "colab": {
     "base_uri": "https://localhost:8080/"
    },
    "id": "AQK1jqpjml3Y",
    "outputId": "be3f45ae-dfd0-434f-fcd8-04bdd04c712d"
   },
   "outputs": [
    {
     "data": {
      "text/plain": [
       "State\n",
       "AK     3\n",
       "IA     3\n",
       "HI     3\n",
       "AZ     4\n",
       "LA     4\n",
       "NE     5\n",
       "VA     5\n",
       "TN     5\n",
       "DC     5\n",
       "IL     5\n",
       "NM     6\n",
       "RI     6\n",
       "ND     6\n",
       "WI     7\n",
       "MO     7\n",
       "AL     8\n",
       "GA     8\n",
       "PA     8\n",
       "KY     8\n",
       "FL     8\n",
       "SD     8\n",
       "VT     8\n",
       "OK     9\n",
       "NH     9\n",
       "WY     9\n",
       "CA     9\n",
       "CO     9\n",
       "DE     9\n",
       "ID     9\n",
       "IN     9\n",
       "WV    10\n",
       "UT    10\n",
       "OH    10\n",
       "AR    11\n",
       "OR    11\n",
       "MA    11\n",
       "NC    11\n",
       "CT    12\n",
       "KS    13\n",
       "ME    13\n",
       "NV    14\n",
       "SC    14\n",
       "WA    14\n",
       "MT    14\n",
       "MS    14\n",
       "MN    15\n",
       "NY    15\n",
       "MI    16\n",
       "MD    17\n",
       "NJ    18\n",
       "TX    18\n",
       "Name: Churn, dtype: int64"
      ]
     },
     "execution_count": 65,
     "metadata": {},
     "output_type": "execute_result"
    }
   ],
   "source": [
    "a.sort_values()"
   ]
  },
  {
   "cell_type": "code",
   "execution_count": 70,
   "metadata": {
    "colab": {
     "base_uri": "https://localhost:8080/",
     "height": 1000
    },
    "id": "CSfnlvpr1Vnr",
    "outputId": "3507c812-c9d6-4e0d-a331-0f75de342ccc"
   },
   "outputs": [
    {
     "data": {
      "text/plain": [
       "<Figure size 720x720 with 0 Axes>"
      ]
     },
     "execution_count": 70,
     "metadata": {},
     "output_type": "execute_result"
    },
    {
     "data": {
      "image/png": "[encoded data removed]",
      "text/plain": [
       "<Figure size 2160x1440 with 1 Axes>"
      ]
     },
     "metadata": {},
     "output_type": "display_data"
    },
    {
     "data": {
      "text/plain": [
       "<Figure size 720x720 with 0 Axes>"
      ]
     },
     "metadata": {},
     "output_type": "display_data"
    }
   ],
   "source": [
    "customer_by_area = df['State'].value_counts()\n",
    "customer_by_area.plot(kind='bar')\n",
    "plt.title(\"Customer distribution across states\")\n",
    "plt.ylabel(\"Number of customers\")\n",
    "plt.xlabel(\"Area Code\")\n",
    "plt.figure(figsize=(10,10))"
   ]
  },
  {
   "cell_type": "markdown",
   "metadata": {
    "id": "_VCh4nLo1LR4"
   },
   "source": [
    "We can see here that we have the third highest amount of clients from NY, as well as 5th highest churn rate from NY. This kind of examples shows as that more attention needs to be made to those states that have high amount of customers and as well as high churn rate"
   ]
  },
  {
   "cell_type": "markdown",
   "metadata": {
    "id": "YeBkHxQXtNcW"
   },
   "source": [
    "ANALYSIS OF CUSTOMER SERVICE CALLS"
   ]
  },
  {
   "cell_type": "code",
   "execution_count": 71,
   "metadata": {
    "colab": {
     "base_uri": "https://localhost:8080/",
     "height": 355
    },
    "id": "jI3wx2BcqRTS",
    "outputId": "44e8952c-acb7-4539-ebde-b6cb5868379d"
   },
   "outputs": [
    {
     "data": {
      "image/png": "[encoded data removed]",
      "text/plain": [
       "<Figure size 2160x1440 with 1 Axes>"
      ]
     },
     "metadata": {},
     "output_type": "display_data"
    }
   ],
   "source": [
    "customer_service_calls = df['Customer service calls']\n",
    "sns.histplot(customer_service_calls,discrete=True).set(title='Distribution of day calls')\n",
    "sns.set(rc={'figure.figsize':(5,5)})\n"
   ]
  },
  {
   "cell_type": "markdown",
   "metadata": {
    "id": "Z6iKEJ2Cuswi"
   },
   "source": [
    "Assumption is that by increase of the number of customer service \n",
    "calls churn rate increases"
   ]
  },
  {
   "cell_type": "markdown",
   "metadata": {
    "id": "jeQGTQLbvXCI"
   },
   "source": [
    "CHURN RATE VS CUSTOMER SERVICE CALLS\n",
    "We need to know how churn rate changes with the number of calls"
   ]
  },
  {
   "cell_type": "code",
   "execution_count": 72,
   "metadata": {
    "colab": {
     "base_uri": "https://localhost:8080/",
     "height": 508
    },
    "id": "VHHh4yuUt4sE",
    "outputId": "249d8d7f-a54c-451c-9155-f861a528df9d"
   },
   "outputs": [
    {
     "data": {
      "text/html": [
       "<div>\n",
       "<style scoped>\n",
       "    .dataframe tbody tr th:only-of-type {\n",
       "        vertical-align: middle;\n",
       "    }\n",
       "\n",
       "    .dataframe tbody tr th {\n",
       "        vertical-align: top;\n",
       "    }\n",
       "\n",
       "    .dataframe thead th {\n",
       "        text-align: right;\n",
       "    }\n",
       "</style>\n",
       "<table border=\"1\" class=\"dataframe\">\n",
       "  <thead>\n",
       "    <tr style=\"text-align: right;\">\n",
       "      <th></th>\n",
       "      <th>State</th>\n",
       "      <th>Account length</th>\n",
       "      <th>Area code</th>\n",
       "      <th>International plan</th>\n",
       "      <th>Voice mail plan</th>\n",
       "      <th>Number vmail messages</th>\n",
       "      <th>Total day minutes</th>\n",
       "      <th>Total day calls</th>\n",
       "      <th>Total day charge</th>\n",
       "      <th>Total eve minutes</th>\n",
       "      <th>Total eve calls</th>\n",
       "      <th>Total eve charge</th>\n",
       "      <th>Total night minutes</th>\n",
       "      <th>Total night calls</th>\n",
       "      <th>Total night charge</th>\n",
       "      <th>Total intl minutes</th>\n",
       "      <th>Total intl calls</th>\n",
       "      <th>Total intl charge</th>\n",
       "      <th>Churn</th>\n",
       "    </tr>\n",
       "    <tr>\n",
       "      <th>Customer service calls</th>\n",
       "      <th></th>\n",
       "      <th></th>\n",
       "      <th></th>\n",
       "      <th></th>\n",
       "      <th></th>\n",
       "      <th></th>\n",
       "      <th></th>\n",
       "      <th></th>\n",
       "      <th></th>\n",
       "      <th></th>\n",
       "      <th></th>\n",
       "      <th></th>\n",
       "      <th></th>\n",
       "      <th></th>\n",
       "      <th></th>\n",
       "      <th></th>\n",
       "      <th></th>\n",
       "      <th></th>\n",
       "      <th></th>\n",
       "    </tr>\n",
       "  </thead>\n",
       "  <tbody>\n",
       "    <tr>\n",
       "      <th>0</th>\n",
       "      <td>92</td>\n",
       "      <td>92</td>\n",
       "      <td>92</td>\n",
       "      <td>92</td>\n",
       "      <td>92</td>\n",
       "      <td>92</td>\n",
       "      <td>92</td>\n",
       "      <td>92</td>\n",
       "      <td>92</td>\n",
       "      <td>92</td>\n",
       "      <td>92</td>\n",
       "      <td>92</td>\n",
       "      <td>92</td>\n",
       "      <td>92</td>\n",
       "      <td>92</td>\n",
       "      <td>92</td>\n",
       "      <td>92</td>\n",
       "      <td>92</td>\n",
       "      <td>92</td>\n",
       "    </tr>\n",
       "    <tr>\n",
       "      <th>1</th>\n",
       "      <td>122</td>\n",
       "      <td>122</td>\n",
       "      <td>122</td>\n",
       "      <td>122</td>\n",
       "      <td>122</td>\n",
       "      <td>122</td>\n",
       "      <td>122</td>\n",
       "      <td>122</td>\n",
       "      <td>122</td>\n",
       "      <td>122</td>\n",
       "      <td>122</td>\n",
       "      <td>122</td>\n",
       "      <td>122</td>\n",
       "      <td>122</td>\n",
       "      <td>122</td>\n",
       "      <td>122</td>\n",
       "      <td>122</td>\n",
       "      <td>122</td>\n",
       "      <td>122</td>\n",
       "    </tr>\n",
       "    <tr>\n",
       "      <th>2</th>\n",
       "      <td>87</td>\n",
       "      <td>87</td>\n",
       "      <td>87</td>\n",
       "      <td>87</td>\n",
       "      <td>87</td>\n",
       "      <td>87</td>\n",
       "      <td>87</td>\n",
       "      <td>87</td>\n",
       "      <td>87</td>\n",
       "      <td>87</td>\n",
       "      <td>87</td>\n",
       "      <td>87</td>\n",
       "      <td>87</td>\n",
       "      <td>87</td>\n",
       "      <td>87</td>\n",
       "      <td>87</td>\n",
       "      <td>87</td>\n",
       "      <td>87</td>\n",
       "      <td>87</td>\n",
       "    </tr>\n",
       "    <tr>\n",
       "      <th>3</th>\n",
       "      <td>44</td>\n",
       "      <td>44</td>\n",
       "      <td>44</td>\n",
       "      <td>44</td>\n",
       "      <td>44</td>\n",
       "      <td>44</td>\n",
       "      <td>44</td>\n",
       "      <td>44</td>\n",
       "      <td>44</td>\n",
       "      <td>44</td>\n",
       "      <td>44</td>\n",
       "      <td>44</td>\n",
       "      <td>44</td>\n",
       "      <td>44</td>\n",
       "      <td>44</td>\n",
       "      <td>44</td>\n",
       "      <td>44</td>\n",
       "      <td>44</td>\n",
       "      <td>44</td>\n",
       "    </tr>\n",
       "    <tr>\n",
       "      <th>4</th>\n",
       "      <td>76</td>\n",
       "      <td>76</td>\n",
       "      <td>76</td>\n",
       "      <td>76</td>\n",
       "      <td>76</td>\n",
       "      <td>76</td>\n",
       "      <td>76</td>\n",
       "      <td>76</td>\n",
       "      <td>76</td>\n",
       "      <td>76</td>\n",
       "      <td>76</td>\n",
       "      <td>76</td>\n",
       "      <td>76</td>\n",
       "      <td>76</td>\n",
       "      <td>76</td>\n",
       "      <td>76</td>\n",
       "      <td>76</td>\n",
       "      <td>76</td>\n",
       "      <td>76</td>\n",
       "    </tr>\n",
       "    <tr>\n",
       "      <th>5</th>\n",
       "      <td>40</td>\n",
       "      <td>40</td>\n",
       "      <td>40</td>\n",
       "      <td>40</td>\n",
       "      <td>40</td>\n",
       "      <td>40</td>\n",
       "      <td>40</td>\n",
       "      <td>40</td>\n",
       "      <td>40</td>\n",
       "      <td>40</td>\n",
       "      <td>40</td>\n",
       "      <td>40</td>\n",
       "      <td>40</td>\n",
       "      <td>40</td>\n",
       "      <td>40</td>\n",
       "      <td>40</td>\n",
       "      <td>40</td>\n",
       "      <td>40</td>\n",
       "      <td>40</td>\n",
       "    </tr>\n",
       "    <tr>\n",
       "      <th>6</th>\n",
       "      <td>14</td>\n",
       "      <td>14</td>\n",
       "      <td>14</td>\n",
       "      <td>14</td>\n",
       "      <td>14</td>\n",
       "      <td>14</td>\n",
       "      <td>14</td>\n",
       "      <td>14</td>\n",
       "      <td>14</td>\n",
       "      <td>14</td>\n",
       "      <td>14</td>\n",
       "      <td>14</td>\n",
       "      <td>14</td>\n",
       "      <td>14</td>\n",
       "      <td>14</td>\n",
       "      <td>14</td>\n",
       "      <td>14</td>\n",
       "      <td>14</td>\n",
       "      <td>14</td>\n",
       "    </tr>\n",
       "    <tr>\n",
       "      <th>7</th>\n",
       "      <td>5</td>\n",
       "      <td>5</td>\n",
       "      <td>5</td>\n",
       "      <td>5</td>\n",
       "      <td>5</td>\n",
       "      <td>5</td>\n",
       "      <td>5</td>\n",
       "      <td>5</td>\n",
       "      <td>5</td>\n",
       "      <td>5</td>\n",
       "      <td>5</td>\n",
       "      <td>5</td>\n",
       "      <td>5</td>\n",
       "      <td>5</td>\n",
       "      <td>5</td>\n",
       "      <td>5</td>\n",
       "      <td>5</td>\n",
       "      <td>5</td>\n",
       "      <td>5</td>\n",
       "    </tr>\n",
       "    <tr>\n",
       "      <th>8</th>\n",
       "      <td>1</td>\n",
       "      <td>1</td>\n",
       "      <td>1</td>\n",
       "      <td>1</td>\n",
       "      <td>1</td>\n",
       "      <td>1</td>\n",
       "      <td>1</td>\n",
       "      <td>1</td>\n",
       "      <td>1</td>\n",
       "      <td>1</td>\n",
       "      <td>1</td>\n",
       "      <td>1</td>\n",
       "      <td>1</td>\n",
       "      <td>1</td>\n",
       "      <td>1</td>\n",
       "      <td>1</td>\n",
       "      <td>1</td>\n",
       "      <td>1</td>\n",
       "      <td>1</td>\n",
       "    </tr>\n",
       "    <tr>\n",
       "      <th>9</th>\n",
       "      <td>2</td>\n",
       "      <td>2</td>\n",
       "      <td>2</td>\n",
       "      <td>2</td>\n",
       "      <td>2</td>\n",
       "      <td>2</td>\n",
       "      <td>2</td>\n",
       "      <td>2</td>\n",
       "      <td>2</td>\n",
       "      <td>2</td>\n",
       "      <td>2</td>\n",
       "      <td>2</td>\n",
       "      <td>2</td>\n",
       "      <td>2</td>\n",
       "      <td>2</td>\n",
       "      <td>2</td>\n",
       "      <td>2</td>\n",
       "      <td>2</td>\n",
       "      <td>2</td>\n",
       "    </tr>\n",
       "  </tbody>\n",
       "</table>\n",
       "</div>"
      ],
      "text/plain": [
       "                        State  Account length  Area code  International plan  \\\n",
       "Customer service calls                                                         \n",
       "0                          92              92         92                  92   \n",
       "1                         122             122        122                 122   \n",
       "2                          87              87         87                  87   \n",
       "3                          44              44         44                  44   \n",
       "4                          76              76         76                  76   \n",
       "5                          40              40         40                  40   \n",
       "6                          14              14         14                  14   \n",
       "7                           5               5          5                   5   \n",
       "8                           1               1          1                   1   \n",
       "9                           2               2          2                   2   \n",
       "\n",
       "                        Voice mail plan  Number vmail messages  \\\n",
       "Customer service calls                                           \n",
       "0                                    92                     92   \n",
       "1                                   122                    122   \n",
       "2                                    87                     87   \n",
       "3                                    44                     44   \n",
       "4                                    76                     76   \n",
       "5                                    40                     40   \n",
       "6                                    14                     14   \n",
       "7                                     5                      5   \n",
       "8                                     1                      1   \n",
       "9                                     2                      2   \n",
       "\n",
       "                        Total day minutes  Total day calls  Total day charge  \\\n",
       "Customer service calls                                                         \n",
       "0                                      92               92                92   \n",
       "1                                     122              122               122   \n",
       "2                                      87               87                87   \n",
       "3                                      44               44                44   \n",
       "4                                      76               76                76   \n",
       "5                                      40               40                40   \n",
       "6                                      14               14                14   \n",
       "7                                       5                5                 5   \n",
       "8                                       1                1                 1   \n",
       "9                                       2                2                 2   \n",
       "\n",
       "                        Total eve minutes  Total eve calls  Total eve charge  \\\n",
       "Customer service calls                                                         \n",
       "0                                      92               92                92   \n",
       "1                                     122              122               122   \n",
       "2                                      87               87                87   \n",
       "3                                      44               44                44   \n",
       "4                                      76               76                76   \n",
       "5                                      40               40                40   \n",
       "6                                      14               14                14   \n",
       "7                                       5                5                 5   \n",
       "8                                       1                1                 1   \n",
       "9                                       2                2                 2   \n",
       "\n",
       "                        Total night minutes  Total night calls  \\\n",
       "Customer service calls                                           \n",
       "0                                        92                 92   \n",
       "1                                       122                122   \n",
       "2                                        87                 87   \n",
       "3                                        44                 44   \n",
       "4                                        76                 76   \n",
       "5                                        40                 40   \n",
       "6                                        14                 14   \n",
       "7                                         5                  5   \n",
       "8                                         1                  1   \n",
       "9                                         2                  2   \n",
       "\n",
       "                        Total night charge  Total intl minutes  \\\n",
       "Customer service calls                                           \n",
       "0                                       92                  92   \n",
       "1                                      122                 122   \n",
       "2                                       87                  87   \n",
       "3                                       44                  44   \n",
       "4                                       76                  76   \n",
       "5                                       40                  40   \n",
       "6                                       14                  14   \n",
       "7                                        5                   5   \n",
       "8                                        1                   1   \n",
       "9                                        2                   2   \n",
       "\n",
       "                        Total intl calls  Total intl charge  Churn  \n",
       "Customer service calls                                              \n",
       "0                                     92                 92     92  \n",
       "1                                    122                122    122  \n",
       "2                                     87                 87     87  \n",
       "3                                     44                 44     44  \n",
       "4                                     76                 76     76  \n",
       "5                                     40                 40     40  \n",
       "6                                     14                 14     14  \n",
       "7                                      5                  5      5  \n",
       "8                                      1                  1      1  \n",
       "9                                      2                  2      2  "
      ]
     },
     "execution_count": 72,
     "metadata": {},
     "output_type": "execute_result"
    }
   ],
   "source": [
    "df[df['Churn']==True].groupby('Customer service calls').count()"
   ]
  },
  {
   "cell_type": "code",
   "execution_count": 73,
   "metadata": {
    "colab": {
     "base_uri": "https://localhost:8080/",
     "height": 476
    },
    "id": "YavCubd2Ooq1",
    "outputId": "4141f24a-2b70-467b-a9ef-a4f22331e2f8"
   },
   "outputs": [
    {
     "data": {
      "text/html": [
       "<div>\n",
       "<style scoped>\n",
       "    .dataframe tbody tr th:only-of-type {\n",
       "        vertical-align: middle;\n",
       "    }\n",
       "\n",
       "    .dataframe tbody tr th {\n",
       "        vertical-align: top;\n",
       "    }\n",
       "\n",
       "    .dataframe thead th {\n",
       "        text-align: right;\n",
       "    }\n",
       "</style>\n",
       "<table border=\"1\" class=\"dataframe\">\n",
       "  <thead>\n",
       "    <tr style=\"text-align: right;\">\n",
       "      <th></th>\n",
       "      <th>State</th>\n",
       "      <th>Account length</th>\n",
       "      <th>Area code</th>\n",
       "      <th>International plan</th>\n",
       "      <th>Voice mail plan</th>\n",
       "      <th>Number vmail messages</th>\n",
       "      <th>Total day minutes</th>\n",
       "      <th>Total day calls</th>\n",
       "      <th>Total day charge</th>\n",
       "      <th>Total eve minutes</th>\n",
       "      <th>Total eve calls</th>\n",
       "      <th>Total eve charge</th>\n",
       "      <th>Total night minutes</th>\n",
       "      <th>Total night calls</th>\n",
       "      <th>Total night charge</th>\n",
       "      <th>Total intl minutes</th>\n",
       "      <th>Total intl calls</th>\n",
       "      <th>Total intl charge</th>\n",
       "      <th>Churn</th>\n",
       "    </tr>\n",
       "    <tr>\n",
       "      <th>Customer service calls</th>\n",
       "      <th></th>\n",
       "      <th></th>\n",
       "      <th></th>\n",
       "      <th></th>\n",
       "      <th></th>\n",
       "      <th></th>\n",
       "      <th></th>\n",
       "      <th></th>\n",
       "      <th></th>\n",
       "      <th></th>\n",
       "      <th></th>\n",
       "      <th></th>\n",
       "      <th></th>\n",
       "      <th></th>\n",
       "      <th></th>\n",
       "      <th></th>\n",
       "      <th></th>\n",
       "      <th></th>\n",
       "      <th></th>\n",
       "    </tr>\n",
       "  </thead>\n",
       "  <tbody>\n",
       "    <tr>\n",
       "      <th>0</th>\n",
       "      <td>605</td>\n",
       "      <td>605</td>\n",
       "      <td>605</td>\n",
       "      <td>605</td>\n",
       "      <td>605</td>\n",
       "      <td>605</td>\n",
       "      <td>605</td>\n",
       "      <td>605</td>\n",
       "      <td>605</td>\n",
       "      <td>605</td>\n",
       "      <td>605</td>\n",
       "      <td>605</td>\n",
       "      <td>605</td>\n",
       "      <td>605</td>\n",
       "      <td>605</td>\n",
       "      <td>605</td>\n",
       "      <td>605</td>\n",
       "      <td>605</td>\n",
       "      <td>605</td>\n",
       "    </tr>\n",
       "    <tr>\n",
       "      <th>1</th>\n",
       "      <td>1059</td>\n",
       "      <td>1059</td>\n",
       "      <td>1059</td>\n",
       "      <td>1059</td>\n",
       "      <td>1059</td>\n",
       "      <td>1059</td>\n",
       "      <td>1059</td>\n",
       "      <td>1059</td>\n",
       "      <td>1059</td>\n",
       "      <td>1059</td>\n",
       "      <td>1059</td>\n",
       "      <td>1059</td>\n",
       "      <td>1059</td>\n",
       "      <td>1059</td>\n",
       "      <td>1059</td>\n",
       "      <td>1059</td>\n",
       "      <td>1059</td>\n",
       "      <td>1059</td>\n",
       "      <td>1059</td>\n",
       "    </tr>\n",
       "    <tr>\n",
       "      <th>2</th>\n",
       "      <td>672</td>\n",
       "      <td>672</td>\n",
       "      <td>672</td>\n",
       "      <td>672</td>\n",
       "      <td>672</td>\n",
       "      <td>672</td>\n",
       "      <td>672</td>\n",
       "      <td>672</td>\n",
       "      <td>672</td>\n",
       "      <td>672</td>\n",
       "      <td>672</td>\n",
       "      <td>672</td>\n",
       "      <td>672</td>\n",
       "      <td>672</td>\n",
       "      <td>672</td>\n",
       "      <td>672</td>\n",
       "      <td>672</td>\n",
       "      <td>672</td>\n",
       "      <td>672</td>\n",
       "    </tr>\n",
       "    <tr>\n",
       "      <th>3</th>\n",
       "      <td>385</td>\n",
       "      <td>385</td>\n",
       "      <td>385</td>\n",
       "      <td>385</td>\n",
       "      <td>385</td>\n",
       "      <td>385</td>\n",
       "      <td>385</td>\n",
       "      <td>385</td>\n",
       "      <td>385</td>\n",
       "      <td>385</td>\n",
       "      <td>385</td>\n",
       "      <td>385</td>\n",
       "      <td>385</td>\n",
       "      <td>385</td>\n",
       "      <td>385</td>\n",
       "      <td>385</td>\n",
       "      <td>385</td>\n",
       "      <td>385</td>\n",
       "      <td>385</td>\n",
       "    </tr>\n",
       "    <tr>\n",
       "      <th>4</th>\n",
       "      <td>90</td>\n",
       "      <td>90</td>\n",
       "      <td>90</td>\n",
       "      <td>90</td>\n",
       "      <td>90</td>\n",
       "      <td>90</td>\n",
       "      <td>90</td>\n",
       "      <td>90</td>\n",
       "      <td>90</td>\n",
       "      <td>90</td>\n",
       "      <td>90</td>\n",
       "      <td>90</td>\n",
       "      <td>90</td>\n",
       "      <td>90</td>\n",
       "      <td>90</td>\n",
       "      <td>90</td>\n",
       "      <td>90</td>\n",
       "      <td>90</td>\n",
       "      <td>90</td>\n",
       "    </tr>\n",
       "    <tr>\n",
       "      <th>5</th>\n",
       "      <td>26</td>\n",
       "      <td>26</td>\n",
       "      <td>26</td>\n",
       "      <td>26</td>\n",
       "      <td>26</td>\n",
       "      <td>26</td>\n",
       "      <td>26</td>\n",
       "      <td>26</td>\n",
       "      <td>26</td>\n",
       "      <td>26</td>\n",
       "      <td>26</td>\n",
       "      <td>26</td>\n",
       "      <td>26</td>\n",
       "      <td>26</td>\n",
       "      <td>26</td>\n",
       "      <td>26</td>\n",
       "      <td>26</td>\n",
       "      <td>26</td>\n",
       "      <td>26</td>\n",
       "    </tr>\n",
       "    <tr>\n",
       "      <th>6</th>\n",
       "      <td>8</td>\n",
       "      <td>8</td>\n",
       "      <td>8</td>\n",
       "      <td>8</td>\n",
       "      <td>8</td>\n",
       "      <td>8</td>\n",
       "      <td>8</td>\n",
       "      <td>8</td>\n",
       "      <td>8</td>\n",
       "      <td>8</td>\n",
       "      <td>8</td>\n",
       "      <td>8</td>\n",
       "      <td>8</td>\n",
       "      <td>8</td>\n",
       "      <td>8</td>\n",
       "      <td>8</td>\n",
       "      <td>8</td>\n",
       "      <td>8</td>\n",
       "      <td>8</td>\n",
       "    </tr>\n",
       "    <tr>\n",
       "      <th>7</th>\n",
       "      <td>4</td>\n",
       "      <td>4</td>\n",
       "      <td>4</td>\n",
       "      <td>4</td>\n",
       "      <td>4</td>\n",
       "      <td>4</td>\n",
       "      <td>4</td>\n",
       "      <td>4</td>\n",
       "      <td>4</td>\n",
       "      <td>4</td>\n",
       "      <td>4</td>\n",
       "      <td>4</td>\n",
       "      <td>4</td>\n",
       "      <td>4</td>\n",
       "      <td>4</td>\n",
       "      <td>4</td>\n",
       "      <td>4</td>\n",
       "      <td>4</td>\n",
       "      <td>4</td>\n",
       "    </tr>\n",
       "    <tr>\n",
       "      <th>8</th>\n",
       "      <td>1</td>\n",
       "      <td>1</td>\n",
       "      <td>1</td>\n",
       "      <td>1</td>\n",
       "      <td>1</td>\n",
       "      <td>1</td>\n",
       "      <td>1</td>\n",
       "      <td>1</td>\n",
       "      <td>1</td>\n",
       "      <td>1</td>\n",
       "      <td>1</td>\n",
       "      <td>1</td>\n",
       "      <td>1</td>\n",
       "      <td>1</td>\n",
       "      <td>1</td>\n",
       "      <td>1</td>\n",
       "      <td>1</td>\n",
       "      <td>1</td>\n",
       "      <td>1</td>\n",
       "    </tr>\n",
       "  </tbody>\n",
       "</table>\n",
       "</div>"
      ],
      "text/plain": [
       "                        State  Account length  Area code  International plan  \\\n",
       "Customer service calls                                                         \n",
       "0                         605             605        605                 605   \n",
       "1                        1059            1059       1059                1059   \n",
       "2                         672             672        672                 672   \n",
       "3                         385             385        385                 385   \n",
       "4                          90              90         90                  90   \n",
       "5                          26              26         26                  26   \n",
       "6                           8               8          8                   8   \n",
       "7                           4               4          4                   4   \n",
       "8                           1               1          1                   1   \n",
       "\n",
       "                        Voice mail plan  Number vmail messages  \\\n",
       "Customer service calls                                           \n",
       "0                                   605                    605   \n",
       "1                                  1059                   1059   \n",
       "2                                   672                    672   \n",
       "3                                   385                    385   \n",
       "4                                    90                     90   \n",
       "5                                    26                     26   \n",
       "6                                     8                      8   \n",
       "7                                     4                      4   \n",
       "8                                     1                      1   \n",
       "\n",
       "                        Total day minutes  Total day calls  Total day charge  \\\n",
       "Customer service calls                                                         \n",
       "0                                     605              605               605   \n",
       "1                                    1059             1059              1059   \n",
       "2                                     672              672               672   \n",
       "3                                     385              385               385   \n",
       "4                                      90               90                90   \n",
       "5                                      26               26                26   \n",
       "6                                       8                8                 8   \n",
       "7                                       4                4                 4   \n",
       "8                                       1                1                 1   \n",
       "\n",
       "                        Total eve minutes  Total eve calls  Total eve charge  \\\n",
       "Customer service calls                                                         \n",
       "0                                     605              605               605   \n",
       "1                                    1059             1059              1059   \n",
       "2                                     672              672               672   \n",
       "3                                     385              385               385   \n",
       "4                                      90               90                90   \n",
       "5                                      26               26                26   \n",
       "6                                       8                8                 8   \n",
       "7                                       4                4                 4   \n",
       "8                                       1                1                 1   \n",
       "\n",
       "                        Total night minutes  Total night calls  \\\n",
       "Customer service calls                                           \n",
       "0                                       605                605   \n",
       "1                                      1059               1059   \n",
       "2                                       672                672   \n",
       "3                                       385                385   \n",
       "4                                        90                 90   \n",
       "5                                        26                 26   \n",
       "6                                         8                  8   \n",
       "7                                         4                  4   \n",
       "8                                         1                  1   \n",
       "\n",
       "                        Total night charge  Total intl minutes  \\\n",
       "Customer service calls                                           \n",
       "0                                      605                 605   \n",
       "1                                     1059                1059   \n",
       "2                                      672                 672   \n",
       "3                                      385                 385   \n",
       "4                                       90                  90   \n",
       "5                                       26                  26   \n",
       "6                                        8                   8   \n",
       "7                                        4                   4   \n",
       "8                                        1                   1   \n",
       "\n",
       "                        Total intl calls  Total intl charge  Churn  \n",
       "Customer service calls                                              \n",
       "0                                    605                605    605  \n",
       "1                                   1059               1059   1059  \n",
       "2                                    672                672    672  \n",
       "3                                    385                385    385  \n",
       "4                                     90                 90     90  \n",
       "5                                     26                 26     26  \n",
       "6                                      8                  8      8  \n",
       "7                                      4                  4      4  \n",
       "8                                      1                  1      1  "
      ]
     },
     "execution_count": 73,
     "metadata": {},
     "output_type": "execute_result"
    }
   ],
   "source": [
    "df[df['Churn']==False].groupby('Customer service calls').count()"
   ]
  },
  {
   "cell_type": "code",
   "execution_count": 74,
   "metadata": {
    "colab": {
     "base_uri": "https://localhost:8080/"
    },
    "id": "bMZZfiTqv8T7",
    "outputId": "38b8e72d-bc46-4130-dce3-ff3ec2cb88de"
   },
   "outputs": [
    {
     "data": {
      "text/plain": [
       "False    2850\n",
       "True      483\n",
       "Name: Churn, dtype: int64"
      ]
     },
     "execution_count": 74,
     "metadata": {},
     "output_type": "execute_result"
    }
   ],
   "source": [
    "df['Churn'].value_counts()"
   ]
  },
  {
   "cell_type": "code",
   "execution_count": 75,
   "metadata": {
    "colab": {
     "base_uri": "https://localhost:8080/",
     "height": 508
    },
    "id": "gV6i1zbsxIPf",
    "outputId": "dee06f60-4bbc-4f88-ceda-0ba136e7f937"
   },
   "outputs": [
    {
     "data": {
      "text/html": [
       "<div>\n",
       "<style scoped>\n",
       "    .dataframe tbody tr th:only-of-type {\n",
       "        vertical-align: middle;\n",
       "    }\n",
       "\n",
       "    .dataframe tbody tr th {\n",
       "        vertical-align: top;\n",
       "    }\n",
       "\n",
       "    .dataframe thead th {\n",
       "        text-align: right;\n",
       "    }\n",
       "</style>\n",
       "<table border=\"1\" class=\"dataframe\">\n",
       "  <thead>\n",
       "    <tr style=\"text-align: right;\">\n",
       "      <th></th>\n",
       "      <th>State</th>\n",
       "      <th>Account length</th>\n",
       "      <th>Area code</th>\n",
       "      <th>International plan</th>\n",
       "      <th>Voice mail plan</th>\n",
       "      <th>Number vmail messages</th>\n",
       "      <th>Total day minutes</th>\n",
       "      <th>Total day calls</th>\n",
       "      <th>Total day charge</th>\n",
       "      <th>Total eve minutes</th>\n",
       "      <th>Total eve calls</th>\n",
       "      <th>Total eve charge</th>\n",
       "      <th>Total night minutes</th>\n",
       "      <th>Total night calls</th>\n",
       "      <th>Total night charge</th>\n",
       "      <th>Total intl minutes</th>\n",
       "      <th>Total intl calls</th>\n",
       "      <th>Total intl charge</th>\n",
       "      <th>Churn</th>\n",
       "    </tr>\n",
       "    <tr>\n",
       "      <th>Customer service calls</th>\n",
       "      <th></th>\n",
       "      <th></th>\n",
       "      <th></th>\n",
       "      <th></th>\n",
       "      <th></th>\n",
       "      <th></th>\n",
       "      <th></th>\n",
       "      <th></th>\n",
       "      <th></th>\n",
       "      <th></th>\n",
       "      <th></th>\n",
       "      <th></th>\n",
       "      <th></th>\n",
       "      <th></th>\n",
       "      <th></th>\n",
       "      <th></th>\n",
       "      <th></th>\n",
       "      <th></th>\n",
       "      <th></th>\n",
       "    </tr>\n",
       "  </thead>\n",
       "  <tbody>\n",
       "    <tr>\n",
       "      <th>0</th>\n",
       "      <td>697</td>\n",
       "      <td>697</td>\n",
       "      <td>697</td>\n",
       "      <td>697</td>\n",
       "      <td>697</td>\n",
       "      <td>697</td>\n",
       "      <td>697</td>\n",
       "      <td>697</td>\n",
       "      <td>697</td>\n",
       "      <td>697</td>\n",
       "      <td>697</td>\n",
       "      <td>697</td>\n",
       "      <td>697</td>\n",
       "      <td>697</td>\n",
       "      <td>697</td>\n",
       "      <td>697</td>\n",
       "      <td>697</td>\n",
       "      <td>697</td>\n",
       "      <td>697</td>\n",
       "    </tr>\n",
       "    <tr>\n",
       "      <th>1</th>\n",
       "      <td>1181</td>\n",
       "      <td>1181</td>\n",
       "      <td>1181</td>\n",
       "      <td>1181</td>\n",
       "      <td>1181</td>\n",
       "      <td>1181</td>\n",
       "      <td>1181</td>\n",
       "      <td>1181</td>\n",
       "      <td>1181</td>\n",
       "      <td>1181</td>\n",
       "      <td>1181</td>\n",
       "      <td>1181</td>\n",
       "      <td>1181</td>\n",
       "      <td>1181</td>\n",
       "      <td>1181</td>\n",
       "      <td>1181</td>\n",
       "      <td>1181</td>\n",
       "      <td>1181</td>\n",
       "      <td>1181</td>\n",
       "    </tr>\n",
       "    <tr>\n",
       "      <th>2</th>\n",
       "      <td>759</td>\n",
       "      <td>759</td>\n",
       "      <td>759</td>\n",
       "      <td>759</td>\n",
       "      <td>759</td>\n",
       "      <td>759</td>\n",
       "      <td>759</td>\n",
       "      <td>759</td>\n",
       "      <td>759</td>\n",
       "      <td>759</td>\n",
       "      <td>759</td>\n",
       "      <td>759</td>\n",
       "      <td>759</td>\n",
       "      <td>759</td>\n",
       "      <td>759</td>\n",
       "      <td>759</td>\n",
       "      <td>759</td>\n",
       "      <td>759</td>\n",
       "      <td>759</td>\n",
       "    </tr>\n",
       "    <tr>\n",
       "      <th>3</th>\n",
       "      <td>429</td>\n",
       "      <td>429</td>\n",
       "      <td>429</td>\n",
       "      <td>429</td>\n",
       "      <td>429</td>\n",
       "      <td>429</td>\n",
       "      <td>429</td>\n",
       "      <td>429</td>\n",
       "      <td>429</td>\n",
       "      <td>429</td>\n",
       "      <td>429</td>\n",
       "      <td>429</td>\n",
       "      <td>429</td>\n",
       "      <td>429</td>\n",
       "      <td>429</td>\n",
       "      <td>429</td>\n",
       "      <td>429</td>\n",
       "      <td>429</td>\n",
       "      <td>429</td>\n",
       "    </tr>\n",
       "    <tr>\n",
       "      <th>4</th>\n",
       "      <td>166</td>\n",
       "      <td>166</td>\n",
       "      <td>166</td>\n",
       "      <td>166</td>\n",
       "      <td>166</td>\n",
       "      <td>166</td>\n",
       "      <td>166</td>\n",
       "      <td>166</td>\n",
       "      <td>166</td>\n",
       "      <td>166</td>\n",
       "      <td>166</td>\n",
       "      <td>166</td>\n",
       "      <td>166</td>\n",
       "      <td>166</td>\n",
       "      <td>166</td>\n",
       "      <td>166</td>\n",
       "      <td>166</td>\n",
       "      <td>166</td>\n",
       "      <td>166</td>\n",
       "    </tr>\n",
       "    <tr>\n",
       "      <th>5</th>\n",
       "      <td>66</td>\n",
       "      <td>66</td>\n",
       "      <td>66</td>\n",
       "      <td>66</td>\n",
       "      <td>66</td>\n",
       "      <td>66</td>\n",
       "      <td>66</td>\n",
       "      <td>66</td>\n",
       "      <td>66</td>\n",
       "      <td>66</td>\n",
       "      <td>66</td>\n",
       "      <td>66</td>\n",
       "      <td>66</td>\n",
       "      <td>66</td>\n",
       "      <td>66</td>\n",
       "      <td>66</td>\n",
       "      <td>66</td>\n",
       "      <td>66</td>\n",
       "      <td>66</td>\n",
       "    </tr>\n",
       "    <tr>\n",
       "      <th>6</th>\n",
       "      <td>22</td>\n",
       "      <td>22</td>\n",
       "      <td>22</td>\n",
       "      <td>22</td>\n",
       "      <td>22</td>\n",
       "      <td>22</td>\n",
       "      <td>22</td>\n",
       "      <td>22</td>\n",
       "      <td>22</td>\n",
       "      <td>22</td>\n",
       "      <td>22</td>\n",
       "      <td>22</td>\n",
       "      <td>22</td>\n",
       "      <td>22</td>\n",
       "      <td>22</td>\n",
       "      <td>22</td>\n",
       "      <td>22</td>\n",
       "      <td>22</td>\n",
       "      <td>22</td>\n",
       "    </tr>\n",
       "    <tr>\n",
       "      <th>7</th>\n",
       "      <td>9</td>\n",
       "      <td>9</td>\n",
       "      <td>9</td>\n",
       "      <td>9</td>\n",
       "      <td>9</td>\n",
       "      <td>9</td>\n",
       "      <td>9</td>\n",
       "      <td>9</td>\n",
       "      <td>9</td>\n",
       "      <td>9</td>\n",
       "      <td>9</td>\n",
       "      <td>9</td>\n",
       "      <td>9</td>\n",
       "      <td>9</td>\n",
       "      <td>9</td>\n",
       "      <td>9</td>\n",
       "      <td>9</td>\n",
       "      <td>9</td>\n",
       "      <td>9</td>\n",
       "    </tr>\n",
       "    <tr>\n",
       "      <th>8</th>\n",
       "      <td>2</td>\n",
       "      <td>2</td>\n",
       "      <td>2</td>\n",
       "      <td>2</td>\n",
       "      <td>2</td>\n",
       "      <td>2</td>\n",
       "      <td>2</td>\n",
       "      <td>2</td>\n",
       "      <td>2</td>\n",
       "      <td>2</td>\n",
       "      <td>2</td>\n",
       "      <td>2</td>\n",
       "      <td>2</td>\n",
       "      <td>2</td>\n",
       "      <td>2</td>\n",
       "      <td>2</td>\n",
       "      <td>2</td>\n",
       "      <td>2</td>\n",
       "      <td>2</td>\n",
       "    </tr>\n",
       "    <tr>\n",
       "      <th>9</th>\n",
       "      <td>2</td>\n",
       "      <td>2</td>\n",
       "      <td>2</td>\n",
       "      <td>2</td>\n",
       "      <td>2</td>\n",
       "      <td>2</td>\n",
       "      <td>2</td>\n",
       "      <td>2</td>\n",
       "      <td>2</td>\n",
       "      <td>2</td>\n",
       "      <td>2</td>\n",
       "      <td>2</td>\n",
       "      <td>2</td>\n",
       "      <td>2</td>\n",
       "      <td>2</td>\n",
       "      <td>2</td>\n",
       "      <td>2</td>\n",
       "      <td>2</td>\n",
       "      <td>2</td>\n",
       "    </tr>\n",
       "  </tbody>\n",
       "</table>\n",
       "</div>"
      ],
      "text/plain": [
       "                        State  Account length  Area code  International plan  \\\n",
       "Customer service calls                                                         \n",
       "0                         697             697        697                 697   \n",
       "1                        1181            1181       1181                1181   \n",
       "2                         759             759        759                 759   \n",
       "3                         429             429        429                 429   \n",
       "4                         166             166        166                 166   \n",
       "5                          66              66         66                  66   \n",
       "6                          22              22         22                  22   \n",
       "7                           9               9          9                   9   \n",
       "8                           2               2          2                   2   \n",
       "9                           2               2          2                   2   \n",
       "\n",
       "                        Voice mail plan  Number vmail messages  \\\n",
       "Customer service calls                                           \n",
       "0                                   697                    697   \n",
       "1                                  1181                   1181   \n",
       "2                                   759                    759   \n",
       "3                                   429                    429   \n",
       "4                                   166                    166   \n",
       "5                                    66                     66   \n",
       "6                                    22                     22   \n",
       "7                                     9                      9   \n",
       "8                                     2                      2   \n",
       "9                                     2                      2   \n",
       "\n",
       "                        Total day minutes  Total day calls  Total day charge  \\\n",
       "Customer service calls                                                         \n",
       "0                                     697              697               697   \n",
       "1                                    1181             1181              1181   \n",
       "2                                     759              759               759   \n",
       "3                                     429              429               429   \n",
       "4                                     166              166               166   \n",
       "5                                      66               66                66   \n",
       "6                                      22               22                22   \n",
       "7                                       9                9                 9   \n",
       "8                                       2                2                 2   \n",
       "9                                       2                2                 2   \n",
       "\n",
       "                        Total eve minutes  Total eve calls  Total eve charge  \\\n",
       "Customer service calls                                                         \n",
       "0                                     697              697               697   \n",
       "1                                    1181             1181              1181   \n",
       "2                                     759              759               759   \n",
       "3                                     429              429               429   \n",
       "4                                     166              166               166   \n",
       "5                                      66               66                66   \n",
       "6                                      22               22                22   \n",
       "7                                       9                9                 9   \n",
       "8                                       2                2                 2   \n",
       "9                                       2                2                 2   \n",
       "\n",
       "                        Total night minutes  Total night calls  \\\n",
       "Customer service calls                                           \n",
       "0                                       697                697   \n",
       "1                                      1181               1181   \n",
       "2                                       759                759   \n",
       "3                                       429                429   \n",
       "4                                       166                166   \n",
       "5                                        66                 66   \n",
       "6                                        22                 22   \n",
       "7                                         9                  9   \n",
       "8                                         2                  2   \n",
       "9                                         2                  2   \n",
       "\n",
       "                        Total night charge  Total intl minutes  \\\n",
       "Customer service calls                                           \n",
       "0                                      697                 697   \n",
       "1                                     1181                1181   \n",
       "2                                      759                 759   \n",
       "3                                      429                 429   \n",
       "4                                      166                 166   \n",
       "5                                       66                  66   \n",
       "6                                       22                  22   \n",
       "7                                        9                   9   \n",
       "8                                        2                   2   \n",
       "9                                        2                   2   \n",
       "\n",
       "                        Total intl calls  Total intl charge  Churn  \n",
       "Customer service calls                                              \n",
       "0                                    697                697    697  \n",
       "1                                   1181               1181   1181  \n",
       "2                                    759                759    759  \n",
       "3                                    429                429    429  \n",
       "4                                    166                166    166  \n",
       "5                                     66                 66     66  \n",
       "6                                     22                 22     22  \n",
       "7                                      9                  9      9  \n",
       "8                                      2                  2      2  \n",
       "9                                      2                  2      2  "
      ]
     },
     "execution_count": 75,
     "metadata": {},
     "output_type": "execute_result"
    }
   ],
   "source": [
    "df.groupby('Customer service calls').count()"
   ]
  },
  {
   "cell_type": "code",
   "execution_count": 76,
   "metadata": {
    "colab": {
     "base_uri": "https://localhost:8080/"
    },
    "id": "V70ltfAMxRH0",
    "outputId": "6856784c-c82c-4094-fda6-325dfa7e9585"
   },
   "outputs": [
    {
     "data": {
      "text/plain": [
       "Int64Index([1, 2, 0, 3, 4, 5, 6, 7, 9, 8], dtype='int64')"
      ]
     },
     "execution_count": 76,
     "metadata": {},
     "output_type": "execute_result"
    }
   ],
   "source": [
    "df['Customer service calls'].value_counts().index"
   ]
  },
  {
   "cell_type": "code",
   "execution_count": 77,
   "metadata": {
    "id": "_HydTvh7zgQT"
   },
   "outputs": [],
   "source": [
    "#List of distinct number of customer service calls\n",
    "distinct_customer_calls = list(set(df['Customer service calls']))\n",
    "distinct_customer_calls\n",
    "\n",
    "true_churn = []\n",
    "false_churn = []\n",
    "#Calculating churn percentage in each of the customer service call\n",
    "churn_percantage_true = []\n",
    "churn_percantage_false = []\n",
    "#getting churn customer in each of the distinct service calss\n",
    "\n",
    "for i in distinct_customer_calls:\n",
    "  true_churn.append(df.loc[(df['Customer service calls']==i) & (df['Churn']==True),'Churn'].count())\n",
    "\n",
    "for i in distinct_customer_calls:\n",
    "  false_churn.append(df.loc[(df['Customer service calls']==i) & (df['Churn']==False),'Churn'].count())\n",
    "\n",
    "for i in range(len(distinct_customer_calls)):\n",
    "  churn_percantage_true.append((true_churn[i]/(true_churn[i]+false_churn[i]))*100)\n",
    "\n",
    "\n",
    "for i in range(len(distinct_customer_calls)):\n",
    "  churn_percantage_false.append((false_churn[i]/(true_churn[i]+false_churn[i]))*100)\n"
   ]
  },
  {
   "cell_type": "code",
   "execution_count": 78,
   "metadata": {
    "colab": {
     "base_uri": "https://localhost:8080/"
    },
    "id": "rKtqgaGCO6yA",
    "outputId": "0971833f-02f1-4459-bf6e-2ab936a97fb7"
   },
   "outputs": [
    {
     "data": {
      "text/plain": [
       "[92, 122, 87, 44, 76, 40, 14, 5, 1, 2]"
      ]
     },
     "execution_count": 78,
     "metadata": {},
     "output_type": "execute_result"
    }
   ],
   "source": [
    "true_churn"
   ]
  },
  {
   "cell_type": "code",
   "execution_count": 79,
   "metadata": {
    "colab": {
     "base_uri": "https://localhost:8080/"
    },
    "id": "2n9qCc4zO_lv",
    "outputId": "20cdfb86-1a1b-4117-e12a-50c7a153a336"
   },
   "outputs": [
    {
     "data": {
      "text/plain": [
       "[605, 1059, 672, 385, 90, 26, 8, 4, 1, 0]"
      ]
     },
     "execution_count": 79,
     "metadata": {},
     "output_type": "execute_result"
    }
   ],
   "source": [
    "false_churn"
   ]
  },
  {
   "cell_type": "code",
   "execution_count": 80,
   "metadata": {
    "colab": {
     "base_uri": "https://localhost:8080/"
    },
    "id": "q-2tvk8XPUDz",
    "outputId": "c5a0cd19-d140-452d-f0c7-fdcc3431d368"
   },
   "outputs": [
    {
     "data": {
      "text/plain": [
       "[13.199426111908178,\n",
       " 10.330228619813717,\n",
       " 11.462450592885375,\n",
       " 10.256410256410255,\n",
       " 45.78313253012048,\n",
       " 60.60606060606061,\n",
       " 63.63636363636363,\n",
       " 55.55555555555556,\n",
       " 50.0,\n",
       " 100.0]"
      ]
     },
     "execution_count": 80,
     "metadata": {},
     "output_type": "execute_result"
    }
   ],
   "source": [
    "churn_percantage_true"
   ]
  },
  {
   "cell_type": "code",
   "execution_count": 81,
   "metadata": {
    "colab": {
     "base_uri": "https://localhost:8080/"
    },
    "id": "jvZunsjPPaIP",
    "outputId": "37c23c22-a75a-4bcc-9ec0-c6c25df3ff9d"
   },
   "outputs": [
    {
     "data": {
      "text/plain": [
       "[86.80057388809182,\n",
       " 89.66977138018628,\n",
       " 88.53754940711462,\n",
       " 89.74358974358975,\n",
       " 54.21686746987952,\n",
       " 39.39393939393939,\n",
       " 36.36363636363637,\n",
       " 44.44444444444444,\n",
       " 50.0,\n",
       " 0.0]"
      ]
     },
     "execution_count": 81,
     "metadata": {},
     "output_type": "execute_result"
    }
   ],
   "source": [
    "churn_percantage_false"
   ]
  },
  {
   "cell_type": "code",
   "execution_count": 82,
   "metadata": {},
   "outputs": [
    {
     "data": {
      "text/plain": [
       "Text(0.5, 1.0, 'Churned customers by number of service calls')"
      ]
     },
     "execution_count": 82,
     "metadata": {},
     "output_type": "execute_result"
    },
    {
     "data": {
      "image/png": "[encoded data removed]",
      "text/plain": [
       "<Figure size 360x360 with 1 Axes>"
      ]
     },
     "metadata": {},
     "output_type": "display_data"
    }
   ],
   "source": [
    "# create DataFrame\n",
    "df2 = pd.DataFrame({'Churned': true_churn,\n",
    "                   'Not churned': false_churn},\n",
    "                  index=distinct_customer_calls)\n",
    " \n",
    " \n",
    "# create stacked bar chart \n",
    "df2.plot(kind='bar', stacked=True, color=['red',  'green'])\n",
    "\n",
    "# labels for x & y axis\n",
    "plt.ylabel('Customers')\n",
    "plt.xlabel('Number of service calls')\n",
    " \n",
    "# title of plot\n",
    "plt.title('Churned customers by number of service calls')"
   ]
  },
  {
   "cell_type": "markdown",
   "metadata": {},
   "source": [
    "We can conclude that till 4 customer service calls around 90% of clients do not churn\n",
    "**From 4 calls the probability of churning increases substantially**"
   ]
  },
  {
   "cell_type": "markdown",
   "metadata": {
    "id": "UQz70x7FwHt2"
   },
   "source": [
    "Approximation towards negligence"
   ]
  },
  {
   "cell_type": "markdown",
   "metadata": {
    "id": "mJ3vhBQo3ZY8"
   },
   "source": [
    "Since cost might play a crucial role in churning lets see the affect of charge to the churn"
   ]
  },
  {
   "cell_type": "code",
   "execution_count": 83,
   "metadata": {
    "id": "B6cVGMiJwTaz"
   },
   "outputs": [],
   "source": [
    "df['Total charges'] = df['Total day charge']+df['Total night charge']+df['Total eve charge']"
   ]
  },
  {
   "cell_type": "code",
   "execution_count": 84,
   "metadata": {
    "colab": {
     "base_uri": "https://localhost:8080/",
     "height": 502
    },
    "id": "syFjrT-V4TbO",
    "outputId": "3ea0be06-5d6c-4b2e-ceb2-0bc4368f5b9f"
   },
   "outputs": [
    {
     "data": {
      "text/html": [
       "<div>\n",
       "<style scoped>\n",
       "    .dataframe tbody tr th:only-of-type {\n",
       "        vertical-align: middle;\n",
       "    }\n",
       "\n",
       "    .dataframe tbody tr th {\n",
       "        vertical-align: top;\n",
       "    }\n",
       "\n",
       "    .dataframe thead th {\n",
       "        text-align: right;\n",
       "    }\n",
       "</style>\n",
       "<table border=\"1\" class=\"dataframe\">\n",
       "  <thead>\n",
       "    <tr style=\"text-align: right;\">\n",
       "      <th></th>\n",
       "      <th>State</th>\n",
       "      <th>Account length</th>\n",
       "      <th>Area code</th>\n",
       "      <th>International plan</th>\n",
       "      <th>Voice mail plan</th>\n",
       "      <th>Number vmail messages</th>\n",
       "      <th>Total day minutes</th>\n",
       "      <th>Total day calls</th>\n",
       "      <th>Total day charge</th>\n",
       "      <th>Total eve minutes</th>\n",
       "      <th>...</th>\n",
       "      <th>Total eve charge</th>\n",
       "      <th>Total night minutes</th>\n",
       "      <th>Total night calls</th>\n",
       "      <th>Total night charge</th>\n",
       "      <th>Total intl minutes</th>\n",
       "      <th>Total intl calls</th>\n",
       "      <th>Total intl charge</th>\n",
       "      <th>Customer service calls</th>\n",
       "      <th>Churn</th>\n",
       "      <th>Total charges</th>\n",
       "    </tr>\n",
       "  </thead>\n",
       "  <tbody>\n",
       "    <tr>\n",
       "      <th>0</th>\n",
       "      <td>KS</td>\n",
       "      <td>128</td>\n",
       "      <td>415</td>\n",
       "      <td>No</td>\n",
       "      <td>Yes</td>\n",
       "      <td>25</td>\n",
       "      <td>265.1</td>\n",
       "      <td>110</td>\n",
       "      <td>45.07</td>\n",
       "      <td>197.4</td>\n",
       "      <td>...</td>\n",
       "      <td>16.78</td>\n",
       "      <td>244.7</td>\n",
       "      <td>91</td>\n",
       "      <td>11.01</td>\n",
       "      <td>10.0</td>\n",
       "      <td>3</td>\n",
       "      <td>2.70</td>\n",
       "      <td>1</td>\n",
       "      <td>False</td>\n",
       "      <td>72.86</td>\n",
       "    </tr>\n",
       "    <tr>\n",
       "      <th>1</th>\n",
       "      <td>OH</td>\n",
       "      <td>107</td>\n",
       "      <td>415</td>\n",
       "      <td>No</td>\n",
       "      <td>Yes</td>\n",
       "      <td>26</td>\n",
       "      <td>161.6</td>\n",
       "      <td>123</td>\n",
       "      <td>27.47</td>\n",
       "      <td>195.5</td>\n",
       "      <td>...</td>\n",
       "      <td>16.62</td>\n",
       "      <td>254.4</td>\n",
       "      <td>103</td>\n",
       "      <td>11.45</td>\n",
       "      <td>13.7</td>\n",
       "      <td>3</td>\n",
       "      <td>3.70</td>\n",
       "      <td>1</td>\n",
       "      <td>False</td>\n",
       "      <td>55.54</td>\n",
       "    </tr>\n",
       "    <tr>\n",
       "      <th>2</th>\n",
       "      <td>NJ</td>\n",
       "      <td>137</td>\n",
       "      <td>415</td>\n",
       "      <td>No</td>\n",
       "      <td>No</td>\n",
       "      <td>0</td>\n",
       "      <td>243.4</td>\n",
       "      <td>114</td>\n",
       "      <td>41.38</td>\n",
       "      <td>121.2</td>\n",
       "      <td>...</td>\n",
       "      <td>10.30</td>\n",
       "      <td>162.6</td>\n",
       "      <td>104</td>\n",
       "      <td>7.32</td>\n",
       "      <td>12.2</td>\n",
       "      <td>5</td>\n",
       "      <td>3.29</td>\n",
       "      <td>0</td>\n",
       "      <td>False</td>\n",
       "      <td>59.00</td>\n",
       "    </tr>\n",
       "    <tr>\n",
       "      <th>3</th>\n",
       "      <td>OH</td>\n",
       "      <td>84</td>\n",
       "      <td>408</td>\n",
       "      <td>Yes</td>\n",
       "      <td>No</td>\n",
       "      <td>0</td>\n",
       "      <td>299.4</td>\n",
       "      <td>71</td>\n",
       "      <td>50.90</td>\n",
       "      <td>61.9</td>\n",
       "      <td>...</td>\n",
       "      <td>5.26</td>\n",
       "      <td>196.9</td>\n",
       "      <td>89</td>\n",
       "      <td>8.86</td>\n",
       "      <td>6.6</td>\n",
       "      <td>7</td>\n",
       "      <td>1.78</td>\n",
       "      <td>2</td>\n",
       "      <td>False</td>\n",
       "      <td>65.02</td>\n",
       "    </tr>\n",
       "    <tr>\n",
       "      <th>4</th>\n",
       "      <td>OK</td>\n",
       "      <td>75</td>\n",
       "      <td>415</td>\n",
       "      <td>Yes</td>\n",
       "      <td>No</td>\n",
       "      <td>0</td>\n",
       "      <td>166.7</td>\n",
       "      <td>113</td>\n",
       "      <td>28.34</td>\n",
       "      <td>148.3</td>\n",
       "      <td>...</td>\n",
       "      <td>12.61</td>\n",
       "      <td>186.9</td>\n",
       "      <td>121</td>\n",
       "      <td>8.41</td>\n",
       "      <td>10.1</td>\n",
       "      <td>3</td>\n",
       "      <td>2.73</td>\n",
       "      <td>3</td>\n",
       "      <td>False</td>\n",
       "      <td>49.36</td>\n",
       "    </tr>\n",
       "    <tr>\n",
       "      <th>...</th>\n",
       "      <td>...</td>\n",
       "      <td>...</td>\n",
       "      <td>...</td>\n",
       "      <td>...</td>\n",
       "      <td>...</td>\n",
       "      <td>...</td>\n",
       "      <td>...</td>\n",
       "      <td>...</td>\n",
       "      <td>...</td>\n",
       "      <td>...</td>\n",
       "      <td>...</td>\n",
       "      <td>...</td>\n",
       "      <td>...</td>\n",
       "      <td>...</td>\n",
       "      <td>...</td>\n",
       "      <td>...</td>\n",
       "      <td>...</td>\n",
       "      <td>...</td>\n",
       "      <td>...</td>\n",
       "      <td>...</td>\n",
       "      <td>...</td>\n",
       "    </tr>\n",
       "    <tr>\n",
       "      <th>3328</th>\n",
       "      <td>AZ</td>\n",
       "      <td>192</td>\n",
       "      <td>415</td>\n",
       "      <td>No</td>\n",
       "      <td>Yes</td>\n",
       "      <td>36</td>\n",
       "      <td>156.2</td>\n",
       "      <td>77</td>\n",
       "      <td>26.55</td>\n",
       "      <td>215.5</td>\n",
       "      <td>...</td>\n",
       "      <td>18.32</td>\n",
       "      <td>279.1</td>\n",
       "      <td>83</td>\n",
       "      <td>12.56</td>\n",
       "      <td>9.9</td>\n",
       "      <td>6</td>\n",
       "      <td>2.67</td>\n",
       "      <td>2</td>\n",
       "      <td>False</td>\n",
       "      <td>57.43</td>\n",
       "    </tr>\n",
       "    <tr>\n",
       "      <th>3329</th>\n",
       "      <td>WV</td>\n",
       "      <td>68</td>\n",
       "      <td>415</td>\n",
       "      <td>No</td>\n",
       "      <td>No</td>\n",
       "      <td>0</td>\n",
       "      <td>231.1</td>\n",
       "      <td>57</td>\n",
       "      <td>39.29</td>\n",
       "      <td>153.4</td>\n",
       "      <td>...</td>\n",
       "      <td>13.04</td>\n",
       "      <td>191.3</td>\n",
       "      <td>123</td>\n",
       "      <td>8.61</td>\n",
       "      <td>9.6</td>\n",
       "      <td>4</td>\n",
       "      <td>2.59</td>\n",
       "      <td>3</td>\n",
       "      <td>False</td>\n",
       "      <td>60.94</td>\n",
       "    </tr>\n",
       "    <tr>\n",
       "      <th>3330</th>\n",
       "      <td>RI</td>\n",
       "      <td>28</td>\n",
       "      <td>510</td>\n",
       "      <td>No</td>\n",
       "      <td>No</td>\n",
       "      <td>0</td>\n",
       "      <td>180.8</td>\n",
       "      <td>109</td>\n",
       "      <td>30.74</td>\n",
       "      <td>288.8</td>\n",
       "      <td>...</td>\n",
       "      <td>24.55</td>\n",
       "      <td>191.9</td>\n",
       "      <td>91</td>\n",
       "      <td>8.64</td>\n",
       "      <td>14.1</td>\n",
       "      <td>6</td>\n",
       "      <td>3.81</td>\n",
       "      <td>2</td>\n",
       "      <td>False</td>\n",
       "      <td>63.93</td>\n",
       "    </tr>\n",
       "    <tr>\n",
       "      <th>3331</th>\n",
       "      <td>CT</td>\n",
       "      <td>184</td>\n",
       "      <td>510</td>\n",
       "      <td>Yes</td>\n",
       "      <td>No</td>\n",
       "      <td>0</td>\n",
       "      <td>213.8</td>\n",
       "      <td>105</td>\n",
       "      <td>36.35</td>\n",
       "      <td>159.6</td>\n",
       "      <td>...</td>\n",
       "      <td>13.57</td>\n",
       "      <td>139.2</td>\n",
       "      <td>137</td>\n",
       "      <td>6.26</td>\n",
       "      <td>5.0</td>\n",
       "      <td>10</td>\n",
       "      <td>1.35</td>\n",
       "      <td>2</td>\n",
       "      <td>False</td>\n",
       "      <td>56.18</td>\n",
       "    </tr>\n",
       "    <tr>\n",
       "      <th>3332</th>\n",
       "      <td>TN</td>\n",
       "      <td>74</td>\n",
       "      <td>415</td>\n",
       "      <td>No</td>\n",
       "      <td>Yes</td>\n",
       "      <td>25</td>\n",
       "      <td>234.4</td>\n",
       "      <td>113</td>\n",
       "      <td>39.85</td>\n",
       "      <td>265.9</td>\n",
       "      <td>...</td>\n",
       "      <td>22.60</td>\n",
       "      <td>241.4</td>\n",
       "      <td>77</td>\n",
       "      <td>10.86</td>\n",
       "      <td>13.7</td>\n",
       "      <td>4</td>\n",
       "      <td>3.70</td>\n",
       "      <td>0</td>\n",
       "      <td>False</td>\n",
       "      <td>73.31</td>\n",
       "    </tr>\n",
       "  </tbody>\n",
       "</table>\n",
       "<p>3333 rows × 21 columns</p>\n",
       "</div>"
      ],
      "text/plain": [
       "     State  Account length  Area code International plan Voice mail plan  \\\n",
       "0       KS             128        415                 No             Yes   \n",
       "1       OH             107        415                 No             Yes   \n",
       "2       NJ             137        415                 No              No   \n",
       "3       OH              84        408                Yes              No   \n",
       "4       OK              75        415                Yes              No   \n",
       "...    ...             ...        ...                ...             ...   \n",
       "3328    AZ             192        415                 No             Yes   \n",
       "3329    WV              68        415                 No              No   \n",
       "3330    RI              28        510                 No              No   \n",
       "3331    CT             184        510                Yes              No   \n",
       "3332    TN              74        415                 No             Yes   \n",
       "\n",
       "      Number vmail messages  Total day minutes  Total day calls  \\\n",
       "0                        25              265.1              110   \n",
       "1                        26              161.6              123   \n",
       "2                         0              243.4              114   \n",
       "3                         0              299.4               71   \n",
       "4                         0              166.7              113   \n",
       "...                     ...                ...              ...   \n",
       "3328                     36              156.2               77   \n",
       "3329                      0              231.1               57   \n",
       "3330                      0              180.8              109   \n",
       "3331                      0              213.8              105   \n",
       "3332                     25              234.4              113   \n",
       "\n",
       "      Total day charge  Total eve minutes  ...  Total eve charge  \\\n",
       "0                45.07              197.4  ...             16.78   \n",
       "1                27.47              195.5  ...             16.62   \n",
       "2                41.38              121.2  ...             10.30   \n",
       "3                50.90               61.9  ...              5.26   \n",
       "4                28.34              148.3  ...             12.61   \n",
       "...                ...                ...  ...               ...   \n",
       "3328             26.55              215.5  ...             18.32   \n",
       "3329             39.29              153.4  ...             13.04   \n",
       "3330             30.74              288.8  ...             24.55   \n",
       "3331             36.35              159.6  ...             13.57   \n",
       "3332             39.85              265.9  ...             22.60   \n",
       "\n",
       "      Total night minutes  Total night calls  Total night charge  \\\n",
       "0                   244.7                 91               11.01   \n",
       "1                   254.4                103               11.45   \n",
       "2                   162.6                104                7.32   \n",
       "3                   196.9                 89                8.86   \n",
       "4                   186.9                121                8.41   \n",
       "...                   ...                ...                 ...   \n",
       "3328                279.1                 83               12.56   \n",
       "3329                191.3                123                8.61   \n",
       "3330                191.9                 91                8.64   \n",
       "3331                139.2                137                6.26   \n",
       "3332                241.4                 77               10.86   \n",
       "\n",
       "      Total intl minutes  Total intl calls  Total intl charge  \\\n",
       "0                   10.0                 3               2.70   \n",
       "1                   13.7                 3               3.70   \n",
       "2                   12.2                 5               3.29   \n",
       "3                    6.6                 7               1.78   \n",
       "4                   10.1                 3               2.73   \n",
       "...                  ...               ...                ...   \n",
       "3328                 9.9                 6               2.67   \n",
       "3329                 9.6                 4               2.59   \n",
       "3330                14.1                 6               3.81   \n",
       "3331                 5.0                10               1.35   \n",
       "3332                13.7                 4               3.70   \n",
       "\n",
       "      Customer service calls  Churn  Total charges  \n",
       "0                          1  False          72.86  \n",
       "1                          1  False          55.54  \n",
       "2                          0  False          59.00  \n",
       "3                          2  False          65.02  \n",
       "4                          3  False          49.36  \n",
       "...                      ...    ...            ...  \n",
       "3328                       2  False          57.43  \n",
       "3329                       3  False          60.94  \n",
       "3330                       2  False          63.93  \n",
       "3331                       2  False          56.18  \n",
       "3332                       0  False          73.31  \n",
       "\n",
       "[3333 rows x 21 columns]"
      ]
     },
     "execution_count": 84,
     "metadata": {},
     "output_type": "execute_result"
    }
   ],
   "source": [
    "df"
   ]
  },
  {
   "cell_type": "code",
   "execution_count": 85,
   "metadata": {
    "colab": {
     "base_uri": "https://localhost:8080/",
     "height": 466
    },
    "id": "yh_KUQWB4USe",
    "outputId": "f546bfb6-bfb5-43e5-b8b5-f33921612956"
   },
   "outputs": [
    {
     "data": {
      "text/plain": [
       "<AxesSubplot:xlabel='Churn', ylabel='Total charges'>"
      ]
     },
     "execution_count": 85,
     "metadata": {},
     "output_type": "execute_result"
    },
    {
     "data": {
      "image/png": "[encoded data removed]",
      "text/plain": [
       "<Figure size 360x360 with 1 Axes>"
      ]
     },
     "metadata": {},
     "output_type": "display_data"
    }
   ],
   "source": [
    "sns.boxplot(x='Churn',y='Total charges',data=df)"
   ]
  },
  {
   "cell_type": "markdown",
   "metadata": {
    "id": "k1F4pmdU6N0z"
   },
   "source": [
    "Our prescription is to make special discounts or special packages to those customers who call a lot"
   ]
  },
  {
   "cell_type": "code",
   "execution_count": 86,
   "metadata": {
    "colab": {
     "base_uri": "https://localhost:8080/",
     "height": 466
    },
    "id": "HXnb5UT65TIE",
    "outputId": "c99fc406-4166-4539-cd82-a0ceb2e312b1"
   },
   "outputs": [
    {
     "data": {
      "text/plain": [
       "<AxesSubplot:xlabel='Churn', ylabel='Total day charge'>"
      ]
     },
     "execution_count": 86,
     "metadata": {},
     "output_type": "execute_result"
    },
    {
     "data": {
      "image/png": "[encoded data removed]",
      "text/plain": [
       "<Figure size 360x360 with 1 Axes>"
      ]
     },
     "metadata": {},
     "output_type": "display_data"
    }
   ],
   "source": [
    "sns.boxplot(x='Churn',y='Total day charge',data=df)"
   ]
  },
  {
   "cell_type": "markdown",
   "metadata": {
    "id": "4ZZyfEu19fn8"
   },
   "source": [
    "From of the above analysis this segement of customers who are paying more in the day time should be retained **by** personalized offers"
   ]
  },
  {
   "cell_type": "code",
   "execution_count": 87,
   "metadata": {
    "colab": {
     "base_uri": "https://localhost:8080/",
     "height": 466
    },
    "id": "v75zWr6262Ie",
    "outputId": "7376be2c-e5c1-4d8d-ac8a-5edaf10d1a33"
   },
   "outputs": [
    {
     "data": {
      "text/plain": [
       "<AxesSubplot:xlabel='Churn', ylabel='Total eve charge'>"
      ]
     },
     "execution_count": 87,
     "metadata": {},
     "output_type": "execute_result"
    },
    {
     "data": {
      "image/png": "[encoded data removed]",
      "text/plain": [
       "<Figure size 360x360 with 1 Axes>"
      ]
     },
     "metadata": {},
     "output_type": "display_data"
    }
   ],
   "source": [
    "sns.boxplot(x='Churn',y='Total eve charge',data=df)"
   ]
  },
  {
   "cell_type": "markdown",
   "metadata": {
    "id": "nAbNvAnk8HUu"
   },
   "source": [
    "No significant affect of price for churning to those who use evening calls frequently"
   ]
  },
  {
   "cell_type": "code",
   "execution_count": 88,
   "metadata": {
    "colab": {
     "base_uri": "https://localhost:8080/",
     "height": 466
    },
    "id": "NQkjCWy97Bxj",
    "outputId": "45df71a1-dc24-4962-ab6b-934b78ad95ae"
   },
   "outputs": [
    {
     "data": {
      "text/plain": [
       "<AxesSubplot:xlabel='Churn', ylabel='Total night charge'>"
      ]
     },
     "execution_count": 88,
     "metadata": {},
     "output_type": "execute_result"
    },
    {
     "data": {
      "image/png": "[encoded data removed]",
      "text/plain": [
       "<Figure size 360x360 with 1 Axes>"
      ]
     },
     "metadata": {},
     "output_type": "display_data"
    }
   ],
   "source": [
    "sns.boxplot(x='Churn',y='Total night charge',data=df)"
   ]
  },
  {
   "cell_type": "markdown",
   "metadata": {
    "id": "FLgydF3_7Rxu"
   },
   "source": [
    "We can conclude that people who churn and use night calls frequently their churning reason might not be due to the price"
   ]
  },
  {
   "cell_type": "code",
   "execution_count": 89,
   "metadata": {
    "colab": {
     "base_uri": "https://localhost:8080/",
     "height": 1000
    },
    "id": "r_eYsFR7ReEF",
    "outputId": "9a29b6ad-1fd9-45f1-c3ac-c16de5db8e49"
   },
   "outputs": [
    {
     "data": {
      "text/plain": [
       "<AxesSubplot:xlabel='Churn', ylabel='Total intl calls'>"
      ]
     },
     "execution_count": 89,
     "metadata": {},
     "output_type": "execute_result"
    },
    {
     "data": {
      "image/png": "[encoded data removed]",
      "text/plain": [
       "<Figure size 360x360 with 1 Axes>"
      ]
     },
     "metadata": {},
     "output_type": "display_data"
    }
   ],
   "source": [
    "sns.boxplot(x='Churn',y='Total intl calls',data=df)"
   ]
  },
  {
   "cell_type": "markdown",
   "metadata": {
    "id": "73ekDz69Tl3h"
   },
   "source": [
    "From the this boxplit we can see that people who churned use intl calls in generall less than those who stayed. we can conclude that intl calss does might not affect churn rate"
   ]
  },
  {
   "cell_type": "code",
   "execution_count": 97,
   "metadata": {},
   "outputs": [
    {
     "data": {
      "text/plain": [
       "<AxesSubplot:xlabel='Churn', ylabel='Total intl charge'>"
      ]
     },
     "execution_count": 97,
     "metadata": {},
     "output_type": "execute_result"
    },
    {
     "data": {
      "image/png": "[encoded data removed]",
      "text/plain": [
       "<Figure size 360x360 with 1 Axes>"
      ]
     },
     "metadata": {},
     "output_type": "display_data"
    }
   ],
   "source": [
    "sns.boxplot(x='Churn',y='Total intl charge',data=df)"
   ]
  },
  {
   "cell_type": "markdown",
   "metadata": {
    "id": "deOPfUhUVOLW"
   },
   "source": [
    "More expensive rates for some countries should be decreased in order to retain them and as well as may be increase the number of calls to those countries"
   ]
  },
  {
   "cell_type": "code",
   "execution_count": 92,
   "metadata": {
    "colab": {
     "base_uri": "https://localhost:8080/",
     "height": 1000
    },
    "id": "Dgdk1vUMUJ4u",
    "outputId": "0dfc1b1a-5a18-4499-dea7-64ee831a055c"
   },
   "outputs": [
    {
     "data": {
      "text/plain": [
       "<AxesSubplot:xlabel='Churn', ylabel='Customer service calls'>"
      ]
     },
     "execution_count": 92,
     "metadata": {},
     "output_type": "execute_result"
    },
    {
     "data": {
      "image/png": "[encoded data removed]",
      "text/plain": [
       "<Figure size 360x360 with 1 Axes>"
      ]
     },
     "metadata": {},
     "output_type": "display_data"
    }
   ],
   "source": [
    "sns.boxplot(x='Churn',y='Customer service calls',data=df)"
   ]
  },
  {
   "cell_type": "markdown",
   "metadata": {
    "id": "zWjJ6M80V7yT"
   },
   "source": [
    " it is verified that with number of service calls the churn rate increases *massively*"
   ]
  },
  {
   "cell_type": "markdown",
   "metadata": {
    "id": "lofTXw6GX4GS"
   },
   "source": [
    "**CLUBBING OF BOXPLOTS**.\n",
    "Multivariate analysis of customer service calls and international plan and churn"
   ]
  },
  {
   "cell_type": "code",
   "execution_count": 93,
   "metadata": {
    "colab": {
     "base_uri": "https://localhost:8080/",
     "height": 1000
    },
    "id": "Fa4-jD0rX3ZY",
    "outputId": "f8946a38-830d-44a9-e1d6-3e6245468695"
   },
   "outputs": [
    {
     "data": {
      "text/plain": [
       "Text(0.5, 1.0, 'Multivariate analysis of int calls and cust service calls')"
      ]
     },
     "execution_count": 93,
     "metadata": {},
     "output_type": "execute_result"
    },
    {
     "data": {
      "image/png": "[encoded data removed]",
      "text/plain": [
       "<Figure size 360x360 with 1 Axes>"
      ]
     },
     "metadata": {},
     "output_type": "display_data"
    }
   ],
   "source": [
    "sns.boxplot(x='International plan',y='Customer service calls',data=df,sym=\"\",hue=\"Churn\")\n",
    "plt.xlabel('International plan',fontsize = 15,)\n",
    "plt.ylabel('Customer service calls',fontsize = 15)\n",
    "plt.title('Multivariate analysis of int calls and cust service calls')"
   ]
  },
  {
   "cell_type": "markdown",
   "metadata": {
    "id": "cgLGpuVSarZE"
   },
   "source": [
    "**Conclusion of multivariate analysis**\n",
    "<li>1) Customer service calls is the most significant factor in terms of analytical and prescriptive analysis for this data\n",
    "<li>2) International plan is another factor in terms of recommendation analytics which can lead to a driving factor for churn"
   ]
  },
  {
   "cell_type": "code",
   "execution_count": 94,
   "metadata": {
    "colab": {
     "base_uri": "https://localhost:8080/",
     "height": 743
    },
    "id": "AaoSwVOccRml",
    "outputId": "444cbaf7-714f-4b95-8280-898866c5eb4e"
   },
   "outputs": [
    {
     "data": {
      "text/plain": [
       "<seaborn.axisgrid.FacetGrid at 0x7f420236b2e8>"
      ]
     },
     "execution_count": 94,
     "metadata": {},
     "output_type": "execute_result"
    },
    {
     "data": {
      "image/png": "[encoded data removed]",
      "text/plain": [
       "<Figure size 1152x720 with 8 Axes>"
      ]
     },
     "metadata": {},
     "output_type": "display_data"
    }
   ],
   "source": [
    "sns.catplot(x='Churn',y='Total day minutes', col='Customer service calls',data=df[df['Customer service calls']<8],kind='box',col_wrap=4,height=5,aspect=0.8)\n"
   ]
  },
  {
   "cell_type": "markdown",
   "metadata": {
    "id": "KSyIsOSNffmt"
   },
   "source": [
    "Above analysis clears that people who churn and  who call to customer service more than 3 times tend to have high drop of total day call minutes.\n",
    " "
   ]
  },
  {
   "cell_type": "markdown",
   "metadata": {
    "id": "Xm0noHlufsQL"
   },
   "source": [
    "**Inferences**"
   ]
  },
  {
   "cell_type": "markdown",
   "metadata": {
    "id": "gvMxJioyiOup"
   },
   "source": [
    "Factors responsible for churn:\n",
    "<li>1) Increasing customer service calls beyond 3\n",
    "<li>2) Higher call charges  during the day time\n",
    "<li>3) International plan is not effectively optimized"
   ]
  },
  {
   "cell_type": "markdown",
   "metadata": {
    "id": "Dd_0TYdNiwMP"
   },
   "source": [
    "**Recommendation**\n",
    "<li>Charging rates should be managed effectively for day time and more attention must be paid to those who call a lot during the day\n",
    "<li>Telecom company shall try to map the demand as per the most profitable model for a particular area or a particular region\n",
    "<li>Customer service must be transformed in order to solve customers problems better\n",
    "<li>Incentives and offers shall be given to such customers who are long time loyalty to the company based on their service history\n",
    "<li>Incentives/discounts should be rolled to such customers who are on international plan\n"
   ]
  },
  {
   "cell_type": "code",
   "execution_count": null,
   "metadata": {
    "id": "EN4F8ndTe3R0"
   },
   "outputs": [],
   "source": []
  }
 ],
 "metadata": {
  "colab": {
   "name": "Churn_project.ipynb",
   "provenance": []
  },
  "kernelspec": {
   "display_name": "Python 3",
   "language": "python",
   "name": "python3"
  },
  "language_info": {
   "codemirror_mode": {
    "name": "ipython",
    "version": 3
   },
   "file_extension": ".py",
   "mimetype": "text/x-python",
   "name": "python",
   "nbconvert_exporter": "python",
   "pygments_lexer": "ipython3",
   "version": "3.6.9"
  }
 },
 "nbformat": 4,
 "nbformat_minor": 1
}
